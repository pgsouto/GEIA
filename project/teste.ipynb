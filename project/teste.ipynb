{
 "cells": [
  {
   "cell_type": "code",
   "execution_count": 12,
   "id": "25e6a859",
   "metadata": {},
   "outputs": [
    {
     "name": "stdout",
     "output_type": "stream",
     "text": [
      "1.0\n",
      "1.0\n"
     ]
    }
   ],
   "source": [
    "import pandas as pd\n",
    "import statistics as stats\n",
    "import math\n",
    "\n",
    "data = {'X': [8, 10, 7, 6, 5],\n",
    "        'Y': [80, 100, 70, 60, 50]}\n",
    "\n",
    "df = pd.DataFrame(data=data)\n",
    "\n",
    "x = df['X'].values\n",
    "y = df['Y'].values\n",
    "\n",
    "media_x = df['X'].mean()\n",
    "media_y = df['Y'].mean()\n",
    "\n",
    "def covariancia_amostral(x, y):\n",
    "    S = 0\n",
    "    n = len(x)\n",
    "    for i in range(n):\n",
    "        S += (x[i] - media_x) * (y[i] - media_y)\n",
    "    return S / (n - 1)\n",
    "\n",
    "\n",
    "def correlacao_de_pearson(x, y):\n",
    "    S1 = 0\n",
    "    S2 = 0 \n",
    "    S3 = 0\n",
    "    n = len(x)\n",
    "    for i in range(n):\n",
    "        S1 += (x[i] - media_x) * (y[i] - media_y)\n",
    "        S2 += (x[i] - media_x) ** 2\n",
    "        S3 += (y[i] - media_y) ** 2\n",
    "    return S1 / ((S2 ** 0.5) * (S3 ** 0.5))\n",
    "     \n",
    "print(stats.correlation(x, y))\n",
    "print(correlacao_de_pearson(x, y))"
   ]
  }
 ],
 "metadata": {
  "kernelspec": {
   "display_name": "Python 3",
   "language": "python",
   "name": "python3"
  },
  "language_info": {
   "codemirror_mode": {
    "name": "ipython",
    "version": 3
   },
   "file_extension": ".py",
   "mimetype": "text/x-python",
   "name": "python",
   "nbconvert_exporter": "python",
   "pygments_lexer": "ipython3",
   "version": "3.12.3"
  }
 },
 "nbformat": 4,
 "nbformat_minor": 5
}
