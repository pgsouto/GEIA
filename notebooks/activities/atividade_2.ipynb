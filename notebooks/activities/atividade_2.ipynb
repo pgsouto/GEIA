{
 "cells": [
  {
   "cell_type": "markdown",
   "id": "481aaeaf",
   "metadata": {},
   "source": [
    "# Atividade 2\n",
    "---\n",
    "## Primeira etapa\n",
    "### criação de dataframe"
   ]
  },
  {
   "cell_type": "code",
   "execution_count": 29,
   "id": "e38dd671",
   "metadata": {},
   "outputs": [
    {
     "data": {
      "text/html": [
       "<div>\n",
       "<style scoped>\n",
       "    .dataframe tbody tr th:only-of-type {\n",
       "        vertical-align: middle;\n",
       "    }\n",
       "\n",
       "    .dataframe tbody tr th {\n",
       "        vertical-align: top;\n",
       "    }\n",
       "\n",
       "    .dataframe thead th {\n",
       "        text-align: right;\n",
       "    }\n",
       "</style>\n",
       "<table border=\"1\" class=\"dataframe\">\n",
       "  <thead>\n",
       "    <tr style=\"text-align: right;\">\n",
       "      <th></th>\n",
       "      <th>nome</th>\n",
       "      <th>idade</th>\n",
       "      <th>nota</th>\n",
       "    </tr>\n",
       "  </thead>\n",
       "  <tbody>\n",
       "    <tr>\n",
       "      <th>0</th>\n",
       "      <td>Ana</td>\n",
       "      <td>23</td>\n",
       "      <td>8.5</td>\n",
       "    </tr>\n",
       "    <tr>\n",
       "      <th>1</th>\n",
       "      <td>Bruno</td>\n",
       "      <td>25</td>\n",
       "      <td>7.0</td>\n",
       "    </tr>\n",
       "    <tr>\n",
       "      <th>2</th>\n",
       "      <td>Carlos</td>\n",
       "      <td>22</td>\n",
       "      <td>9.2</td>\n",
       "    </tr>\n",
       "  </tbody>\n",
       "</table>\n",
       "</div>"
      ],
      "text/plain": [
       "     nome  idade  nota\n",
       "0     Ana     23   8.5\n",
       "1   Bruno     25   7.0\n",
       "2  Carlos     22   9.2"
      ]
     },
     "execution_count": 29,
     "metadata": {},
     "output_type": "execute_result"
    }
   ],
   "source": [
    "import pandas as pd\n",
    "import numpy as np\n",
    "df = pd.DataFrame({\n",
    "    'nome': ['Ana', 'Bruno', 'Carlos'],\n",
    "    'idade': [23, 25, 22],\n",
    "    'nota': [8.5, 7.0, 9.2]\n",
    "})\n",
    "df\n",
    "#print('tipo:', type(df))"
   ]
  },
  {
   "cell_type": "markdown",
   "id": "91ff75bc",
   "metadata": {},
   "source": [
    "---"
   ]
  },
  {
   "cell_type": "markdown",
   "id": "2daaf86f",
   "metadata": {},
   "source": [
    "## Tarefa 1\n",
    "### Exibição de nome e nota de alunos"
   ]
  },
  {
   "cell_type": "code",
   "execution_count": 30,
   "id": "c480d264",
   "metadata": {},
   "outputs": [
    {
     "name": "stdout",
     "output_type": "stream",
     "text": [
      "0 Ana 8.5\n",
      "1 Bruno 7.0\n",
      "2 Carlos 9.2\n"
     ]
    }
   ],
   "source": [
    "for index, row in df.iterrows():\n",
    "    print(index, row[\"nome\"], row[\"nota\"])"
   ]
  },
  {
   "cell_type": "markdown",
   "id": "c1c0829e",
   "metadata": {},
   "source": [
    "### Cálculo da média"
   ]
  },
  {
   "cell_type": "code",
   "execution_count": 31,
   "id": "f746dcc7",
   "metadata": {},
   "outputs": [
    {
     "name": "stdout",
     "output_type": "stream",
     "text": [
      "Média: 8.233333333333333\n"
     ]
    }
   ],
   "source": [
    "total = 0\n",
    "count = 0\n",
    "for row in df.itertuples():\n",
    "    total += row.nota\n",
    "    count += 1\n",
    "\n",
    "print(\"Média:\", total/count)"
   ]
  },
  {
   "cell_type": "markdown",
   "id": "31ab8a8c",
   "metadata": {},
   "source": [
    "### Impressão coluna de idades"
   ]
  },
  {
   "cell_type": "code",
   "execution_count": 32,
   "id": "63e9ea08",
   "metadata": {},
   "outputs": [
    {
     "name": "stdout",
     "output_type": "stream",
     "text": [
      "0 23\n",
      "1 25\n",
      "2 22\n"
     ]
    }
   ],
   "source": [
    "for index in df.index:\n",
    "    print(index, df.loc[index, 'idade'])"
   ]
  },
  {
   "cell_type": "markdown",
   "id": "efd61a0d",
   "metadata": {},
   "source": [
    "### Extra: "
   ]
  },
  {
   "cell_type": "code",
   "execution_count": null,
   "id": "d7b789d3",
   "metadata": {},
   "outputs": [
    {
     "data": {
      "text/html": [
       "<div>\n",
       "<style scoped>\n",
       "    .dataframe tbody tr th:only-of-type {\n",
       "        vertical-align: middle;\n",
       "    }\n",
       "\n",
       "    .dataframe tbody tr th {\n",
       "        vertical-align: top;\n",
       "    }\n",
       "\n",
       "    .dataframe thead th {\n",
       "        text-align: right;\n",
       "    }\n",
       "</style>\n",
       "<table border=\"1\" class=\"dataframe\">\n",
       "  <thead>\n",
       "    <tr style=\"text-align: right;\">\n",
       "      <th></th>\n",
       "      <th>nome</th>\n",
       "      <th>idade</th>\n",
       "      <th>nota</th>\n",
       "      <th>mensagem</th>\n",
       "    </tr>\n",
       "  </thead>\n",
       "  <tbody>\n",
       "    <tr>\n",
       "      <th>0</th>\n",
       "      <td>Ana</td>\n",
       "      <td>23</td>\n",
       "      <td>8.5</td>\n",
       "      <td>Aluno Ana tirou 8.5</td>\n",
       "    </tr>\n",
       "    <tr>\n",
       "      <th>1</th>\n",
       "      <td>Bruno</td>\n",
       "      <td>25</td>\n",
       "      <td>7.0</td>\n",
       "      <td>Aluno Bruno tirou 7.0</td>\n",
       "    </tr>\n",
       "    <tr>\n",
       "      <th>2</th>\n",
       "      <td>Carlos</td>\n",
       "      <td>22</td>\n",
       "      <td>9.2</td>\n",
       "      <td>Aluno Carlos tirou 9.2</td>\n",
       "    </tr>\n",
       "  </tbody>\n",
       "</table>\n",
       "</div>"
      ],
      "text/plain": [
       "     nome  idade  nota                mensagem\n",
       "0     Ana     23   8.5     Aluno Ana tirou 8.5\n",
       "1   Bruno     25   7.0   Aluno Bruno tirou 7.0\n",
       "2  Carlos     22   9.2  Aluno Carlos tirou 9.2"
      ]
     },
     "execution_count": 33,
     "metadata": {},
     "output_type": "execute_result"
    }
   ],
   "source": [
    "df2 = df.copy()\n",
    "\n",
    "for index in df.index:\n",
    "    df2.loc[index, 'mensagem'] = f\"Aluno {df.loc[index, 'nome']} tirou {df.loc[index, 'nota']}\"\n",
    "df2"
   ]
  },
  {
   "cell_type": "markdown",
   "id": "1c093bbc",
   "metadata": {},
   "source": [
    "---\n",
    "## Tarefa 2"
   ]
  },
  {
   "cell_type": "code",
   "execution_count": 49,
   "id": "4bf54d23",
   "metadata": {},
   "outputs": [
    {
     "data": {
      "text/html": [
       "<div>\n",
       "<style scoped>\n",
       "    .dataframe tbody tr th:only-of-type {\n",
       "        vertical-align: middle;\n",
       "    }\n",
       "\n",
       "    .dataframe tbody tr th {\n",
       "        vertical-align: top;\n",
       "    }\n",
       "\n",
       "    .dataframe thead th {\n",
       "        text-align: right;\n",
       "    }\n",
       "</style>\n",
       "<table border=\"1\" class=\"dataframe\">\n",
       "  <thead>\n",
       "    <tr style=\"text-align: right;\">\n",
       "      <th></th>\n",
       "      <th>aluno</th>\n",
       "      <th>turma</th>\n",
       "      <th>nota</th>\n",
       "    </tr>\n",
       "  </thead>\n",
       "  <tbody>\n",
       "    <tr>\n",
       "      <th>0</th>\n",
       "      <td>Ana</td>\n",
       "      <td>A</td>\n",
       "      <td>8.5</td>\n",
       "    </tr>\n",
       "    <tr>\n",
       "      <th>1</th>\n",
       "      <td>Bruno</td>\n",
       "      <td>B</td>\n",
       "      <td>7.0</td>\n",
       "    </tr>\n",
       "    <tr>\n",
       "      <th>2</th>\n",
       "      <td>Carlos</td>\n",
       "      <td>A</td>\n",
       "      <td>9.2</td>\n",
       "    </tr>\n",
       "    <tr>\n",
       "      <th>3</th>\n",
       "      <td>Daniela</td>\n",
       "      <td>B</td>\n",
       "      <td>6.5</td>\n",
       "    </tr>\n",
       "    <tr>\n",
       "      <th>4</th>\n",
       "      <td>Eduardo</td>\n",
       "      <td>A</td>\n",
       "      <td>8.0</td>\n",
       "    </tr>\n",
       "  </tbody>\n",
       "</table>\n",
       "</div>"
      ],
      "text/plain": [
       "     aluno turma  nota\n",
       "0      Ana     A   8.5\n",
       "1    Bruno     B   7.0\n",
       "2   Carlos     A   9.2\n",
       "3  Daniela     B   6.5\n",
       "4  Eduardo     A   8.0"
      ]
     },
     "execution_count": 49,
     "metadata": {},
     "output_type": "execute_result"
    }
   ],
   "source": [
    "df = pd.DataFrame({\n",
    "    'aluno': ['Ana', 'Bruno', 'Carlos', 'Daniela', 'Eduardo'],\n",
    "    'turma': ['A', 'B', 'A', 'B', 'A'],\n",
    "    'nota': [8.5, 7.0, 9.2, 6.5, 8.0]\n",
    "})\n",
    "df"
   ]
  },
  {
   "cell_type": "code",
   "execution_count": 70,
   "id": "f81d6689",
   "metadata": {},
   "outputs": [
    {
     "name": "stdout",
     "output_type": "stream",
     "text": [
      "           nota\n",
      "turma          \n",
      "A      8.566667\n",
      "B      6.750000\n"
     ]
    }
   ],
   "source": [
    "print(df.groupby(['turma']).mean(numeric_only=True))"
   ]
  },
  {
   "cell_type": "code",
   "execution_count": 71,
   "id": "6ab6fcd9",
   "metadata": {},
   "outputs": [
    {
     "name": "stdout",
     "output_type": "stream",
     "text": [
      "turma\n",
      "A        3\n",
      "B        2\n",
      "Name: count, dtype: int64\n"
     ]
    }
   ],
   "source": [
    "print(df.value_counts(['turma']))"
   ]
  },
  {
   "cell_type": "code",
   "execution_count": 72,
   "id": "41734497",
   "metadata": {},
   "outputs": [
    {
     "name": "stdout",
     "output_type": "stream",
     "text": [
      "         aluno  nota\n",
      "turma               \n",
      "A      Eduardo   9.2\n",
      "B      Daniela   7.0\n"
     ]
    }
   ],
   "source": [
    "print(df.groupby(['turma']).max())"
   ]
  },
  {
   "cell_type": "code",
   "execution_count": 77,
   "id": "f2432f6c",
   "metadata": {},
   "outputs": [
    {
     "data": {
      "text/html": [
       "<div>\n",
       "<style scoped>\n",
       "    .dataframe tbody tr th:only-of-type {\n",
       "        vertical-align: middle;\n",
       "    }\n",
       "\n",
       "    .dataframe tbody tr th {\n",
       "        vertical-align: top;\n",
       "    }\n",
       "\n",
       "    .dataframe thead th {\n",
       "        text-align: right;\n",
       "    }\n",
       "</style>\n",
       "<table border=\"1\" class=\"dataframe\">\n",
       "  <thead>\n",
       "    <tr style=\"text-align: right;\">\n",
       "      <th></th>\n",
       "      <th>aluno</th>\n",
       "      <th>turma</th>\n",
       "      <th>nota</th>\n",
       "      <th>status</th>\n",
       "    </tr>\n",
       "  </thead>\n",
       "  <tbody>\n",
       "    <tr>\n",
       "      <th>0</th>\n",
       "      <td>Ana</td>\n",
       "      <td>A</td>\n",
       "      <td>8.5</td>\n",
       "      <td>Aprovado</td>\n",
       "    </tr>\n",
       "    <tr>\n",
       "      <th>1</th>\n",
       "      <td>Bruno</td>\n",
       "      <td>B</td>\n",
       "      <td>7.0</td>\n",
       "      <td>Aprovado</td>\n",
       "    </tr>\n",
       "    <tr>\n",
       "      <th>2</th>\n",
       "      <td>Carlos</td>\n",
       "      <td>A</td>\n",
       "      <td>9.2</td>\n",
       "      <td>Aprovado</td>\n",
       "    </tr>\n",
       "    <tr>\n",
       "      <th>3</th>\n",
       "      <td>Daniela</td>\n",
       "      <td>B</td>\n",
       "      <td>6.5</td>\n",
       "      <td>Reprovado</td>\n",
       "    </tr>\n",
       "    <tr>\n",
       "      <th>4</th>\n",
       "      <td>Eduardo</td>\n",
       "      <td>A</td>\n",
       "      <td>8.0</td>\n",
       "      <td>Aprovado</td>\n",
       "    </tr>\n",
       "  </tbody>\n",
       "</table>\n",
       "</div>"
      ],
      "text/plain": [
       "     aluno turma  nota     status\n",
       "0      Ana     A   8.5   Aprovado\n",
       "1    Bruno     B   7.0   Aprovado\n",
       "2   Carlos     A   9.2   Aprovado\n",
       "3  Daniela     B   6.5  Reprovado\n",
       "4  Eduardo     A   8.0   Aprovado"
      ]
     },
     "execution_count": 77,
     "metadata": {},
     "output_type": "execute_result"
    }
   ],
   "source": [
    "def verify_approval(x: float):\n",
    "    if x >= 7:\n",
    "        return \"Aprovado\"\n",
    "    else:\n",
    "        return \"Reprovado\"\n",
    "    \n",
    "df3 = df.copy()\n",
    "\n",
    "df3['status'] = df['nota'].apply(verify_approval)\n",
    "df3"
   ]
  },
  {
   "cell_type": "markdown",
   "id": "feebd2d2",
   "metadata": {},
   "source": [
    "---\n",
    "\n",
    "## Tarefa 3"
   ]
  },
  {
   "cell_type": "code",
   "execution_count": 80,
   "id": "238a4926",
   "metadata": {},
   "outputs": [
    {
     "data": {
      "text/html": [
       "<div>\n",
       "<style scoped>\n",
       "    .dataframe tbody tr th:only-of-type {\n",
       "        vertical-align: middle;\n",
       "    }\n",
       "\n",
       "    .dataframe tbody tr th {\n",
       "        vertical-align: top;\n",
       "    }\n",
       "\n",
       "    .dataframe thead th {\n",
       "        text-align: right;\n",
       "    }\n",
       "</style>\n",
       "<table border=\"1\" class=\"dataframe\">\n",
       "  <thead>\n",
       "    <tr style=\"text-align: right;\">\n",
       "      <th></th>\n",
       "      <th>nome</th>\n",
       "      <th>idade</th>\n",
       "      <th>nota</th>\n",
       "    </tr>\n",
       "  </thead>\n",
       "  <tbody>\n",
       "    <tr>\n",
       "      <th>0</th>\n",
       "      <td>Ana</td>\n",
       "      <td>23.0</td>\n",
       "      <td>8.5</td>\n",
       "    </tr>\n",
       "    <tr>\n",
       "      <th>1</th>\n",
       "      <td>Bruno</td>\n",
       "      <td>NaN</td>\n",
       "      <td>7.0</td>\n",
       "    </tr>\n",
       "    <tr>\n",
       "      <th>2</th>\n",
       "      <td>None</td>\n",
       "      <td>22.0</td>\n",
       "      <td>NaN</td>\n",
       "    </tr>\n",
       "    <tr>\n",
       "      <th>3</th>\n",
       "      <td>Carlos</td>\n",
       "      <td>NaN</td>\n",
       "      <td>9.2</td>\n",
       "    </tr>\n",
       "  </tbody>\n",
       "</table>\n",
       "</div>"
      ],
      "text/plain": [
       "     nome  idade  nota\n",
       "0     Ana   23.0   8.5\n",
       "1   Bruno    NaN   7.0\n",
       "2    None   22.0   NaN\n",
       "3  Carlos    NaN   9.2"
      ]
     },
     "execution_count": 80,
     "metadata": {},
     "output_type": "execute_result"
    }
   ],
   "source": [
    "df = pd.DataFrame({\n",
    "    'nome': ['Ana', 'Bruno', None, 'Carlos'],\n",
    "    'idade': [23, None, 22, None],\n",
    "    'nota': [8.5, 7.0, None, 9.2]\n",
    "})\n",
    "df"
   ]
  },
  {
   "cell_type": "markdown",
   "id": "b3e391c7",
   "metadata": {},
   "source": [
    "### Removendo linhas com valores ausentes"
   ]
  },
  {
   "cell_type": "code",
   "execution_count": null,
   "id": "4d05da49",
   "metadata": {},
   "outputs": [
    {
     "data": {
      "text/html": [
       "<div>\n",
       "<style scoped>\n",
       "    .dataframe tbody tr th:only-of-type {\n",
       "        vertical-align: middle;\n",
       "    }\n",
       "\n",
       "    .dataframe tbody tr th {\n",
       "        vertical-align: top;\n",
       "    }\n",
       "\n",
       "    .dataframe thead th {\n",
       "        text-align: right;\n",
       "    }\n",
       "</style>\n",
       "<table border=\"1\" class=\"dataframe\">\n",
       "  <thead>\n",
       "    <tr style=\"text-align: right;\">\n",
       "      <th></th>\n",
       "      <th>nome</th>\n",
       "      <th>idade</th>\n",
       "      <th>nota</th>\n",
       "    </tr>\n",
       "  </thead>\n",
       "  <tbody>\n",
       "    <tr>\n",
       "      <th>0</th>\n",
       "      <td>Ana</td>\n",
       "      <td>23.0</td>\n",
       "      <td>8.5</td>\n",
       "    </tr>\n",
       "  </tbody>\n",
       "</table>\n",
       "</div>"
      ],
      "text/plain": [
       "  nome  idade  nota\n",
       "0  Ana   23.0   8.5"
      ]
     },
     "execution_count": 85,
     "metadata": {},
     "output_type": "execute_result"
    }
   ],
   "source": [
    "\n",
    "df.dropna(axis = 0, how = 'any') #pra tornar permanente usar inplace = True"
   ]
  },
  {
   "cell_type": "markdown",
   "id": "42de241a",
   "metadata": {},
   "source": [
    "### Preenchendo nulos com 0"
   ]
  },
  {
   "cell_type": "code",
   "execution_count": 87,
   "id": "f6c0f2d8",
   "metadata": {},
   "outputs": [
    {
     "data": {
      "text/html": [
       "<div>\n",
       "<style scoped>\n",
       "    .dataframe tbody tr th:only-of-type {\n",
       "        vertical-align: middle;\n",
       "    }\n",
       "\n",
       "    .dataframe tbody tr th {\n",
       "        vertical-align: top;\n",
       "    }\n",
       "\n",
       "    .dataframe thead th {\n",
       "        text-align: right;\n",
       "    }\n",
       "</style>\n",
       "<table border=\"1\" class=\"dataframe\">\n",
       "  <thead>\n",
       "    <tr style=\"text-align: right;\">\n",
       "      <th></th>\n",
       "      <th>nome</th>\n",
       "      <th>idade</th>\n",
       "      <th>nota</th>\n",
       "    </tr>\n",
       "  </thead>\n",
       "  <tbody>\n",
       "    <tr>\n",
       "      <th>0</th>\n",
       "      <td>Ana</td>\n",
       "      <td>23.0</td>\n",
       "      <td>8.5</td>\n",
       "    </tr>\n",
       "    <tr>\n",
       "      <th>1</th>\n",
       "      <td>Bruno</td>\n",
       "      <td>0.0</td>\n",
       "      <td>7.0</td>\n",
       "    </tr>\n",
       "    <tr>\n",
       "      <th>2</th>\n",
       "      <td>0</td>\n",
       "      <td>22.0</td>\n",
       "      <td>0.0</td>\n",
       "    </tr>\n",
       "    <tr>\n",
       "      <th>3</th>\n",
       "      <td>Carlos</td>\n",
       "      <td>0.0</td>\n",
       "      <td>9.2</td>\n",
       "    </tr>\n",
       "  </tbody>\n",
       "</table>\n",
       "</div>"
      ],
      "text/plain": [
       "     nome  idade  nota\n",
       "0     Ana   23.0   8.5\n",
       "1   Bruno    0.0   7.0\n",
       "2       0   22.0   0.0\n",
       "3  Carlos    0.0   9.2"
      ]
     },
     "execution_count": 87,
     "metadata": {},
     "output_type": "execute_result"
    }
   ],
   "source": [
    "df.fillna(0)"
   ]
  },
  {
   "cell_type": "code",
   "execution_count": 90,
   "id": "3a921a7f",
   "metadata": {},
   "outputs": [
    {
     "data": {
      "text/html": [
       "<div>\n",
       "<style scoped>\n",
       "    .dataframe tbody tr th:only-of-type {\n",
       "        vertical-align: middle;\n",
       "    }\n",
       "\n",
       "    .dataframe tbody tr th {\n",
       "        vertical-align: top;\n",
       "    }\n",
       "\n",
       "    .dataframe thead th {\n",
       "        text-align: right;\n",
       "    }\n",
       "</style>\n",
       "<table border=\"1\" class=\"dataframe\">\n",
       "  <thead>\n",
       "    <tr style=\"text-align: right;\">\n",
       "      <th></th>\n",
       "      <th>nome</th>\n",
       "      <th>idade</th>\n",
       "      <th>nota</th>\n",
       "    </tr>\n",
       "  </thead>\n",
       "  <tbody>\n",
       "    <tr>\n",
       "      <th>0</th>\n",
       "      <td>Ana</td>\n",
       "      <td>23.0</td>\n",
       "      <td>8.5</td>\n",
       "    </tr>\n",
       "    <tr>\n",
       "      <th>1</th>\n",
       "      <td>Bruno</td>\n",
       "      <td>NaN</td>\n",
       "      <td>7.0</td>\n",
       "    </tr>\n",
       "    <tr>\n",
       "      <th>2</th>\n",
       "      <td>None</td>\n",
       "      <td>22.0</td>\n",
       "      <td>NaN</td>\n",
       "    </tr>\n",
       "    <tr>\n",
       "      <th>3</th>\n",
       "      <td>Carlos</td>\n",
       "      <td>NaN</td>\n",
       "      <td>9.2</td>\n",
       "    </tr>\n",
       "  </tbody>\n",
       "</table>\n",
       "</div>"
      ],
      "text/plain": [
       "     nome  idade  nota\n",
       "0     Ana   23.0   8.5\n",
       "1   Bruno    NaN   7.0\n",
       "2    None   22.0   NaN\n",
       "3  Carlos    NaN   9.2"
      ]
     },
     "execution_count": 90,
     "metadata": {},
     "output_type": "execute_result"
    }
   ],
   "source": [
    "df.dropna(axis = 1, how = 'all') "
   ]
  },
  {
   "cell_type": "code",
   "execution_count": 92,
   "id": "5122c9a4",
   "metadata": {},
   "outputs": [
    {
     "data": {
      "text/plain": [
       "(   id    nome\n",
       " 0   1     Ana\n",
       " 1   2   Bruno\n",
       " 2   3  Carlos,\n",
       "    id  nota\n",
       " 0   1   8.5\n",
       " 1   2   7.0\n",
       " 2   4   9.0)"
      ]
     },
     "execution_count": 92,
     "metadata": {},
     "output_type": "execute_result"
    }
   ],
   "source": [
    "alunos = pd.DataFrame({\n",
    "    'id': [1, 2, 3],\n",
    "    'nome': ['Ana', 'Bruno', 'Carlos']\n",
    "})\n",
    "\n",
    "notas = pd.DataFrame({\n",
    "    'id': [1, 2, 4],\n",
    "    'nota': [8.5, 7.0, 9.0]\n",
    "})\n",
    "\n",
    "alunos, notas"
   ]
  },
  {
   "cell_type": "code",
   "execution_count": 99,
   "id": "12543076",
   "metadata": {},
   "outputs": [
    {
     "name": "stdout",
     "output_type": "stream",
     "text": [
      "inner\n",
      "   id   nome  nota\n",
      "0   1    Ana   8.5\n",
      "1   2  Bruno   7.0\n",
      "left\n",
      "   id    nome  nota\n",
      "0   1     Ana   8.5\n",
      "1   2   Bruno   7.0\n",
      "2   3  Carlos   NaN\n",
      "right\n",
      "   id   nome  nota\n",
      "0   1    Ana   8.5\n",
      "1   2  Bruno   7.0\n",
      "2   4    NaN   9.0\n",
      "outer\n"
     ]
    }
   ],
   "source": [
    "print('inner')\n",
    "print(pd.merge(alunos, notas, on = 'id', how = 'inner')) # inner join\n",
    "print('left')\n",
    "print(pd.merge(alunos, notas, on = 'id', how = 'left')) # left join\n",
    "print('right')\n",
    "print(pd.merge(alunos, notas, on = 'id', how = 'right')) # right join\n",
    "print('outer')\n",
    "df5 = pd.merge(alunos, notas, on = 'id', how = 'outer')# outer join\n",
    "\n",
    "\n"
   ]
  },
  {
   "cell_type": "code",
   "execution_count": 105,
   "id": "e7a82c97",
   "metadata": {},
   "outputs": [
    {
     "data": {
      "text/html": [
       "<div>\n",
       "<style scoped>\n",
       "    .dataframe tbody tr th:only-of-type {\n",
       "        vertical-align: middle;\n",
       "    }\n",
       "\n",
       "    .dataframe tbody tr th {\n",
       "        vertical-align: top;\n",
       "    }\n",
       "\n",
       "    .dataframe thead th {\n",
       "        text-align: right;\n",
       "    }\n",
       "</style>\n",
       "<table border=\"1\" class=\"dataframe\">\n",
       "  <thead>\n",
       "    <tr style=\"text-align: right;\">\n",
       "      <th></th>\n",
       "      <th>id</th>\n",
       "      <th>nome</th>\n",
       "      <th>nota</th>\n",
       "    </tr>\n",
       "  </thead>\n",
       "  <tbody>\n",
       "    <tr>\n",
       "      <th>0</th>\n",
       "      <td>1</td>\n",
       "      <td>Ana</td>\n",
       "      <td>8.500000</td>\n",
       "    </tr>\n",
       "    <tr>\n",
       "      <th>1</th>\n",
       "      <td>2</td>\n",
       "      <td>Bruno</td>\n",
       "      <td>7.000000</td>\n",
       "    </tr>\n",
       "    <tr>\n",
       "      <th>2</th>\n",
       "      <td>3</td>\n",
       "      <td>Carlos</td>\n",
       "      <td>8.166667</td>\n",
       "    </tr>\n",
       "    <tr>\n",
       "      <th>3</th>\n",
       "      <td>4</td>\n",
       "      <td>NaN</td>\n",
       "      <td>9.000000</td>\n",
       "    </tr>\n",
       "  </tbody>\n",
       "</table>\n",
       "</div>"
      ],
      "text/plain": [
       "   id    nome      nota\n",
       "0   1     Ana  8.500000\n",
       "1   2   Bruno  7.000000\n",
       "2   3  Carlos  8.166667\n",
       "3   4     NaN  9.000000"
      ]
     },
     "execution_count": 105,
     "metadata": {},
     "output_type": "execute_result"
    }
   ],
   "source": [
    "df5['nota'] = df5['nota'].fillna(df5['nota'].mean())\n",
    "df5"
   ]
  }
 ],
 "metadata": {
  "kernelspec": {
   "display_name": "base",
   "language": "python",
   "name": "python3"
  },
  "language_info": {
   "codemirror_mode": {
    "name": "ipython",
    "version": 3
   },
   "file_extension": ".py",
   "mimetype": "text/x-python",
   "name": "python",
   "nbconvert_exporter": "python",
   "pygments_lexer": "ipython3",
   "version": "3.12.7"
  }
 },
 "nbformat": 4,
 "nbformat_minor": 5
}
