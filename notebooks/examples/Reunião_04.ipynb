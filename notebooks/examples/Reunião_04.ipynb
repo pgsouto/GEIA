{
  "cells": [
    {
      "cell_type": "markdown",
      "metadata": {
        "id": "RnvvmRAKVVub"
      },
      "source": [
        "<img src='https://www.unifor.br/o/unifor-theme/images/unifor-logo-horizontal.svg' width=\"250px\">\n",
        "\n",
        "# Ciência de Dados\n",
        "Prof. Túlio Ribeiro<br>\n",
        "Laboratório de Ciência de Dados e Inteligência Artificial (LCDIA)<br>\n",
        "Universidade de Fortaleza"
      ]
    },
    {
      "cell_type": "markdown",
      "metadata": {
        "id": "Bb2rE8iYfqIL"
      },
      "source": [
        "# 1. Introdução ao Pandas\n",
        "\n",
        "<img src=\"https://drive.google.com/uc?export=view&id=1JUFz0Rv6jOTb0g8pDdbnLrwhIwzTjPoK\"  width=\"900\" height=\"180\">\n",
        "\n",
        "https://pandas.pydata.org"
      ]
    },
    {
      "cell_type": "markdown",
      "metadata": {
        "id": "6XDnrxkrgI4g"
      },
      "source": [
        "## 1.1 O que é Pandas?\n",
        "\n",
        "Pandas é um módulo para manipulação de tabelas (planilhas).\n",
        "\n",
        "<img src=\"https://drive.google.com/uc?export=view&id=1fVvDjpSXFZI6SSs1Owq3WpZHmGhJyFGF\"  width=\"800\" height=\"430\">"
      ]
    },
    {
      "cell_type": "markdown",
      "metadata": {
        "id": "YEqOqtYO1VK1"
      },
      "source": [
        "# 2. Manipulação de datas"
      ]
    },
    {
      "cell_type": "code",
      "execution_count": 10,
      "metadata": {
        "id": "3fCQAXfp1fUS"
      },
      "outputs": [
        {
          "name": "stdout",
          "output_type": "stream",
          "text": [
            "2025-05-14\n",
            "2025-05-14 13:42:35.764340\n",
            "1984-07-04\n",
            "<class 'datetime.date'>\n"
          ]
        }
      ],
      "source": [
        "import pandas as pd\n",
        "from datetime import date, datetime, timedelta\n",
        "\n",
        "print(date.today())\n",
        "type(date.today())\n",
        "print(datetime.now())\n",
        "datetime\n",
        "data = date(1984, 7, 4)\n",
        "print(data)\n",
        "print(type(data))"
      ]
    },
    {
      "cell_type": "code",
      "execution_count": 2,
      "metadata": {
        "id": "Oefu3daIwxaa"
      },
      "outputs": [
        {
          "name": "stdout",
          "output_type": "stream",
          "text": [
            "Thu Apr 01 02:59:50 2010\n",
            "<class 'str'>\n",
            "2010-04-01 02:59:50\n",
            "<class 'datetime.datetime'>\n",
            "2010 - Apr - Thu\n"
          ]
        }
      ],
      "source": [
        "from datetime import datetime\n",
        "\n",
        "data = 'Thu Apr 01 02:59:50 2010'\n",
        "print(data)\n",
        "print(type(data))\n",
        "\n",
        "data = datetime.strptime(data, '%a %b %d %H:%M:%S %Y') # string to datetime\n",
        "# # # # https://docs.python.org/3/library/datetime.html#strftime-and-strptime-format-codes\n",
        "\n",
        "print(data)\n",
        "print(type(data))\n",
        "\n",
        "print(data.strftime('%Y - %b - %a')) # datetime to string"
      ]
    },
    {
      "cell_type": "code",
      "execution_count": 3,
      "metadata": {
        "id": "cbCdOQ_rJtiI"
      },
      "outputs": [
        {
          "name": "stdout",
          "output_type": "stream",
          "text": [
            "1984-07-04 00:00:00\n",
            "1984\n",
            "7\n",
            "4\n",
            "0\n",
            "0\n",
            "0\n",
            "84 - July - 04\n",
            "1984-06-30 00:00:00\n",
            "4 days, 0:00:00\n",
            "4\n",
            "False\n"
          ]
        }
      ],
      "source": [
        "data = '04/07/1984'\n",
        "# print(data)\n",
        "\n",
        "data = datetime.strptime(data, '%d/%m/%Y') # string to datetime\n",
        "print(data)\n",
        "\n",
        "# print(data.date())\n",
        "# print(data.time())\n",
        "\n",
        "print(data.year)\n",
        "print(data.month)\n",
        "print(data.day)\n",
        "print(data.hour)\n",
        "print(data.minute)\n",
        "print(data.second)\n",
        "\n",
        "print(data.strftime('%y - %B - %d')) # datetime to string\n",
        "\n",
        "nova_data = data - timedelta(days = 4) # week, days, hours, minutes, seconds\n",
        "print(nova_data)\n",
        "\n",
        "diferenca = data - nova_data\n",
        "print(diferenca)\n",
        "print(diferenca.days)\n",
        "\n",
        "c = data < nova_data\n",
        "print(c)"
      ]
    },
    {
      "cell_type": "code",
      "execution_count": 4,
      "metadata": {
        "id": "Mn-jficCs4Zb"
      },
      "outputs": [],
      "source": [
        "def lista_de_datas(data_inicial, data_final):\n",
        "\n",
        "    n = (data_final - data_inicial).days + 1\n",
        "\n",
        "    datas = []\n",
        "\n",
        "    for i in range(n):\n",
        "\n",
        "        datas.append(data_inicial + timedelta(i))\n",
        "\n",
        "    return datas"
      ]
    },
    {
      "cell_type": "code",
      "execution_count": 12,
      "metadata": {
        "id": "2dy__lKC3_oe"
      },
      "outputs": [
        {
          "name": "stdout",
          "output_type": "stream",
          "text": [
            "23\n",
            "[datetime.date(2015, 12, 20), datetime.date(2015, 12, 21), datetime.date(2015, 12, 22), datetime.date(2015, 12, 23), datetime.date(2015, 12, 24), datetime.date(2015, 12, 25), datetime.date(2015, 12, 26), datetime.date(2015, 12, 27), datetime.date(2015, 12, 28), datetime.date(2015, 12, 29), datetime.date(2015, 12, 30), datetime.date(2015, 12, 31), datetime.date(2016, 1, 1), datetime.date(2016, 1, 2), datetime.date(2016, 1, 3), datetime.date(2016, 1, 4), datetime.date(2016, 1, 5), datetime.date(2016, 1, 6), datetime.date(2016, 1, 7), datetime.date(2016, 1, 8), datetime.date(2016, 1, 9), datetime.date(2016, 1, 10), datetime.date(2016, 1, 11)]\n",
            "\n"
          ]
        }
      ],
      "source": [
        "d0 = date(2015, 12, 20) # data inicial\n",
        "\n",
        "d1 = date(2016, 1, 11) # data final\n",
        "\n",
        "datas = lista_de_datas(d0, d1) # lista de datas (da data inicial até a data final)\n",
        "print(len(datas))\n",
        "print(datas)\n",
        "\n",
        "# print(datas[0])\n",
        "\n",
        "print(datas[0].strftime('%Z'))"
      ]
    },
    {
      "cell_type": "markdown",
      "metadata": {
        "id": "IZ3CwFk5KSN9"
      },
      "source": [
        "# Referências\n",
        "[1] <a> https://docs.python.org/3/tutorial/index.html</a>\n",
        "\n",
        "[2] <a> https://pandas.pydata.org/</a>\n",
        "\n",
        "[3] Joel Grus. Data science from scratch: first principles with python. O'Reilly Media, 2019.\n",
        "\n",
        "[4] <a> https://docs.python.org/3/library/datetime.html</a>\n"
      ]
    }
  ],
  "metadata": {
    "colab": {
      "provenance": []
    },
    "kernelspec": {
      "display_name": "base",
      "language": "python",
      "name": "python3"
    },
    "language_info": {
      "codemirror_mode": {
        "name": "ipython",
        "version": 3
      },
      "file_extension": ".py",
      "mimetype": "text/x-python",
      "name": "python",
      "nbconvert_exporter": "python",
      "pygments_lexer": "ipython3",
      "version": "3.12.7"
    }
  },
  "nbformat": 4,
  "nbformat_minor": 0
}
