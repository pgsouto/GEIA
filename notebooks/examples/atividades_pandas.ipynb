{
 "cells": [
  {
   "cell_type": "markdown",
   "id": "73f17a8f",
   "metadata": {},
   "source": [
    "### 📘 Atividade: Iterando sobre DataFrames\n",
    "**Objetivo:** Praticar diferentes formas de percorrer os dados de um DataFrame linha a linha.\n",
    "\n",
    "**Baixar os Dados:**  \n",
    "Criar o seguinte DataFrame:"
   ]
  },
  {
   "cell_type": "code",
   "execution_count": null,
   "id": "bcce7b94",
   "metadata": {},
   "outputs": [],
   "source": [
    "import pandas as pd\n",
    "\n",
    "df = pd.DataFrame({\n",
    "    'nome': ['Ana', 'Bruno', 'Carlos'],\n",
    "    'idade': [23, 25, 22],\n",
    "    'nota': [8.5, 7.0, 9.2]\n",
    "})\n",
    "df"
   ]
  },
  {
   "cell_type": "markdown",
   "id": "d2b4742b",
   "metadata": {},
   "source": [
    "**Tarefas:**\n",
    "- **Iteração com `.iterrows()`:** Exiba o nome e a nota de cada aluno.\n",
    "- **Iteração com `.itertuples()`:** Calcule a média das notas.\n",
    "- **Iteração por coluna:** Imprima todas as idades.\n",
    "\n",
    "**Extra (opcional):**  \n",
    "Crie uma nova coluna chamada `\"mensagem\"` com o texto: `\"Aluno X tirou Y\"`, usando os valores de `nome` e `nota`.\n"
   ]
  },
  {
   "cell_type": "markdown",
   "id": "343a0567",
   "metadata": {},
   "source": [
    "### 📘 Atividade: Agrupando Valores com Pandas\n",
    "**Objetivo:** Agrupar dados por categorias e calcular estatísticas.\n",
    "\n",
    "**Baixar os Dados:**  \n",
    "Criar o seguinte DataFrame:"
   ]
  },
  {
   "cell_type": "code",
   "execution_count": null,
   "id": "e96949b3",
   "metadata": {},
   "outputs": [],
   "source": [
    "df = pd.DataFrame({\n",
    "    'aluno': ['Ana', 'Bruno', 'Carlos', 'Daniela', 'Eduardo'],\n",
    "    'turma': ['A', 'B', 'A', 'B', 'A'],\n",
    "    'nota': [8.5, 7.0, 9.2, 6.5, 8.0]\n",
    "})\n",
    "df"
   ]
  },
  {
   "cell_type": "markdown",
   "id": "5eb60295",
   "metadata": {},
   "source": [
    "**Tarefas:**\n",
    "- **Agrupamento por turma:** Calcule a média de nota por turma.\n",
    "- **Contagem de alunos por turma.**\n",
    "- **Nota máxima em cada turma.**\n",
    "\n",
    "**Extra (opcional):**  \n",
    "Crie uma coluna `status` que mostre `'Aprovado'` se a nota for maior ou igual a 7.\n"
   ]
  },
  {
   "cell_type": "markdown",
   "id": "61fd8233",
   "metadata": {},
   "source": [
    "### 📘 Atividade: Higienização de DataFrames\n",
    "**Objetivo:** Limpar e preparar dados para análise.\n",
    "\n",
    "**Baixar os Dados:**  \n",
    "Criar o seguinte DataFrame:"
   ]
  },
  {
   "cell_type": "code",
   "execution_count": null,
   "id": "0b1a74d3",
   "metadata": {},
   "outputs": [],
   "source": [
    "df = pd.DataFrame({\n",
    "    'nome': ['Ana', 'Bruno', None, 'Carlos'],\n",
    "    'idade': [23, None, 22, None],\n",
    "    'nota': [8.5, 7.0, None, 9.2]\n",
    "})\n",
    "df"
   ]
  },
  {
   "cell_type": "markdown",
   "id": "4e53662a",
   "metadata": {},
   "source": [
    "**Tarefas:**\n",
    "- **Remover linhas com valores ausentes.**\n",
    "- **Preencher valores nulos com 0.**\n",
    "- **Remover colunas com todos os valores nulos.**\n",
    "\n",
    "**Extra (opcional):**  \n",
    "Renomear colunas duplicadas para evitar conflitos (ex: `nota`, `nota.1`, etc.).\n"
   ]
  },
  {
   "cell_type": "markdown",
   "id": "e78d57f1",
   "metadata": {},
   "source": [
    "### 📘 Atividade: Relacionando DataFrames\n",
    "**Objetivo:** Praticar junções (joins) entre dois DataFrames.\n",
    "\n",
    "**Baixar os Dados:**  \n",
    "Criar dois DataFrames:"
   ]
  },
  {
   "cell_type": "code",
   "execution_count": null,
   "id": "c34a44bd",
   "metadata": {},
   "outputs": [],
   "source": [
    "alunos = pd.DataFrame({\n",
    "    'id': [1, 2, 3],\n",
    "    'nome': ['Ana', 'Bruno', 'Carlos']\n",
    "})\n",
    "\n",
    "notas = pd.DataFrame({\n",
    "    'id': [1, 2, 4],\n",
    "    'nota': [8.5, 7.0, 9.0]\n",
    "})\n",
    "\n",
    "alunos, notas"
   ]
  },
  {
   "cell_type": "markdown",
   "id": "4aa1e196",
   "metadata": {},
   "source": [
    "**Tarefas:**\n",
    "- **Realizar junção `inner` entre os DataFrames.**\n",
    "- **Realizar junção `left` e observar os valores ausentes.**\n",
    "- **Realizar junção `right`.**\n",
    "- **Realizar junção `outer` para visualizar todos os dados.**\n",
    "\n",
    "**Extra (opcional):**  \n",
    "Preencha os valores nulos da coluna `nota` com a média geral.\n"
   ]
  }
 ],
 "metadata": {},
 "nbformat": 4,
 "nbformat_minor": 5
}