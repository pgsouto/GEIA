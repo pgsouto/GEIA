{
  "cells": [
    {
      "cell_type": "markdown",
      "metadata": {
        "id": "ZHVwK3pa8RZa"
      },
      "source": [
        "# X500 - Introdução à Ciência de Dados\n",
        "\n",
        "Prof. Erneson Alves de Oliveira<br>\n",
        "Programa de Pós-Graduação em Informática Aplicada<br>\n",
        "Universidade de Fortaleza"
      ]
    },
    {
      "cell_type": "markdown",
      "metadata": {
        "id": "Bb2rE8iYfqIL"
      },
      "source": [
        "# 2 Introdução ao Pandas\n",
        "\n",
        "![picture](https://drive.google.com/thumbnail?id=1UzNXA9dEa9ynMRWH5PqgUUAk-dWSKkWN&sz=w600)\n",
        "\n",
        "https://pandas.pydata.org"
      ]
    },
    {
      "cell_type": "markdown",
      "metadata": {
        "id": "6XDnrxkrgI4g"
      },
      "source": [
        "## 2.1 O que é Pandas?\n",
        "\n",
        "Pandas é um módulo para manipulação de tabelas (planilhas).\n",
        "\n",
        "![picture](https://drive.google.com/thumbnail?id=1EqkkwMguFttpovsYVstiQKsxgmPz34Kb&sz=w400)"
      ]
    },
    {
      "cell_type": "markdown",
      "metadata": {
        "id": "yfNtYyfvhUOJ"
      },
      "source": [
        "## 2.8 Iterando sobre DataFrames"
      ]
    },
    {
      "cell_type": "code",
      "execution_count": 4,
      "metadata": {
        "colab": {
          "base_uri": "https://localhost:8080/"
        },
        "id": "iG5yRRF0hUy3",
        "outputId": "75e64a22-60ae-47b3-bc69-ee8a802abf4f"
      },
      "outputs": [
        {
          "name": "stdout",
          "output_type": "stream",
          "text": [
            "   apples  oranges  bananas  avocados\n",
            "A       3        0        1         9\n",
            "B       2        3        3         0\n",
            "C       0        7        5         0\n",
            "D       1        2        4         1\n"
          ]
        }
      ],
      "source": [
        "import pandas as pd\n",
        "d = {'apples': {'A': 3, 'B': 2, 'C': 0, 'D': 1},\n",
        "     'oranges': {'A': 0, 'B': 3, 'C': 7, 'D': 2},\n",
        "     'bananas': {'A': 1, 'B': 3, 'C': 5, 'D': 4},\n",
        "     'avocados': {'A': 9, 'B': 0, 'C': 0, 'D': 1}}\n",
        "\n",
        "df = pd.DataFrame(d)\n",
        "print(df)"
      ]
    },
    {
      "cell_type": "code",
      "execution_count": 5,
      "metadata": {
        "colab": {
          "base_uri": "https://localhost:8080/"
        },
        "id": "O-oITOlH5G81",
        "outputId": "4548303f-698f-4852-aab8-97f14c9d7208"
      },
      "outputs": [
        {
          "data": {
            "text/plain": [
              "Index(['A', 'B', 'C', 'D'], dtype='object')"
            ]
          },
          "execution_count": 5,
          "metadata": {},
          "output_type": "execute_result"
        }
      ],
      "source": [
        "df.index"
      ]
    },
    {
      "cell_type": "code",
      "execution_count": 6,
      "metadata": {
        "colab": {
          "base_uri": "https://localhost:8080/"
        },
        "id": "xG-1wn-ThXjL",
        "outputId": "fee15774-44c0-4395-c193-8f2fb97a7d92"
      },
      "outputs": [
        {
          "name": "stdout",
          "output_type": "stream",
          "text": [
            "3\n",
            "2\n",
            "0\n",
            "1\n"
          ]
        }
      ],
      "source": [
        "for indice in df.index:\n",
        "    # print(indice)\n",
        "    print(df.loc[indice, 'apples'])"
      ]
    },
    {
      "cell_type": "code",
      "execution_count": 7,
      "metadata": {
        "colab": {
          "base_uri": "https://localhost:8080/"
        },
        "id": "P3xLfkJK85xS",
        "outputId": "8dbc0372-7d1b-4d71-c8b3-d0c127a2babe"
      },
      "outputs": [
        {
          "name": "stdout",
          "output_type": "stream",
          "text": [
            "3\n",
            "2\n",
            "0\n",
            "1\n"
          ]
        }
      ],
      "source": [
        "for indice in df.index:\n",
        "    print(df['apples'][indice])"
      ]
    },
    {
      "cell_type": "code",
      "execution_count": 8,
      "metadata": {
        "colab": {
          "base_uri": "https://localhost:8080/"
        },
        "id": "TQfs8ikB87iB",
        "outputId": "25eeb1a1-1947-4739-cbce-5d7c3510c709"
      },
      "outputs": [
        {
          "name": "stdout",
          "output_type": "stream",
          "text": [
            "3\n",
            "2\n",
            "0\n",
            "1\n"
          ]
        }
      ],
      "source": [
        "for i in range(df.shape[0]):\n",
        "    print(df.iloc[i, 0])"
      ]
    },
    {
      "cell_type": "code",
      "execution_count": 9,
      "metadata": {
        "colab": {
          "base_uri": "https://localhost:8080/"
        },
        "id": "XHCjg2j889UO",
        "outputId": "223959f3-7894-4f2c-9168-6963f38d16b7"
      },
      "outputs": [
        {
          "name": "stdout",
          "output_type": "stream",
          "text": [
            "A 3 1\n",
            "B 2 3\n",
            "C 0 5\n",
            "D 1 4\n"
          ]
        }
      ],
      "source": [
        "for indice, linha in df.iterrows():\n",
        "    # print(indice)\n",
        "    # print(linha)\n",
        "    # break\n",
        "    print(indice, linha['apples'], linha['bananas'])"
      ]
    },
    {
      "cell_type": "markdown",
      "metadata": {
        "id": "hnYxVEwB7EYo"
      },
      "source": [
        "## 2.9 Agrupando valores"
      ]
    },
    {
      "cell_type": "code",
      "execution_count": 10,
      "metadata": {
        "colab": {
          "base_uri": "https://localhost:8080/"
        },
        "id": "SvNO7WtshbA4",
        "outputId": "c4e9b402-92a2-4718-ae28-aa36523728b0"
      },
      "outputs": [
        {
          "name": "stdout",
          "output_type": "stream",
          "text": [
            "       brands   models  price\n",
            "0  Volkswagen    Fusca   1000\n",
            "1   Chevrolet     Onix  30000\n",
            "2      Toyota  Corolla  60000\n",
            "3   Chevrolet   Prisma  32000\n",
            "4     Renault   Duster  35000\n",
            "5   Chevrolet     Onix  40000\n",
            "6      Toyota    Etios  35000\n"
          ]
        }
      ],
      "source": [
        "d = {'brands': ['Volkswagen', 'Chevrolet', 'Toyota', 'Chevrolet', 'Renault', 'Chevrolet', 'Toyota'],\n",
        "     'models': ['Fusca', 'Onix', 'Corolla', 'Prisma', 'Duster', 'Onix', 'Etios'],\n",
        "     'price': [1000, 30000, 60000, 32000, 35000, 40000, 35000]}\n",
        "\n",
        "df = pd.DataFrame(d)\n",
        "print(df)"
      ]
    },
    {
      "cell_type": "code",
      "execution_count": 11,
      "metadata": {
        "colab": {
          "base_uri": "https://localhost:8080/",
          "height": 241
        },
        "id": "o0RthNXzPXoP",
        "outputId": "cee0ce1b-f885-4ba0-e3a9-4db46153d6f7"
      },
      "outputs": [
        {
          "data": {
            "text/plain": [
              "brands\n",
              "Chevrolet     3\n",
              "Toyota        2\n",
              "Volkswagen    1\n",
              "Renault       1\n",
              "Name: count, dtype: int64"
            ]
          },
          "execution_count": 11,
          "metadata": {},
          "output_type": "execute_result"
        }
      ],
      "source": [
        "df['brands'].value_counts()"
      ]
    },
    {
      "cell_type": "code",
      "execution_count": 12,
      "metadata": {
        "colab": {
          "base_uri": "https://localhost:8080/",
          "height": 303
        },
        "id": "4jG1LXJxP7R1",
        "outputId": "25e7b507-60b8-4ba8-c992-1c4f59165b68"
      },
      "outputs": [
        {
          "data": {
            "text/plain": [
              "0    volkswagen\n",
              "1     chevrolet\n",
              "2        toyota\n",
              "3     chevrolet\n",
              "4       renault\n",
              "5     chevrolet\n",
              "6        toyota\n",
              "Name: brands, dtype: object"
            ]
          },
          "execution_count": 12,
          "metadata": {},
          "output_type": "execute_result"
        }
      ],
      "source": [
        "def Minuscula(x):\n",
        "    if isinstance(x, str):\n",
        "        return x.lower()\n",
        "    else:\n",
        "        return x\n",
        "\n",
        "df['brands'].apply(Minuscula)"
      ]
    },
    {
      "cell_type": "code",
      "execution_count": 36,
      "metadata": {
        "colab": {
          "base_uri": "https://localhost:8080/"
        },
        "id": "lzLgs5-Ihcme",
        "outputId": "aa7f22d9-4fae-40a5-f949-e2cf3157bbf1"
      },
      "outputs": [
        {
          "ename": "KeyError",
          "evalue": "'brands'",
          "output_type": "error",
          "traceback": [
            "\u001b[0;31m---------------------------------------------------------------------------\u001b[0m",
            "\u001b[0;31mKeyError\u001b[0m                                  Traceback (most recent call last)",
            "Cell \u001b[0;32mIn[36], line 1\u001b[0m\n\u001b[0;32m----> 1\u001b[0m \u001b[38;5;28mprint\u001b[39m(df\u001b[38;5;241m.\u001b[39mgroupby([\u001b[38;5;124m'\u001b[39m\u001b[38;5;124mbrands\u001b[39m\u001b[38;5;124m'\u001b[39m])\u001b[38;5;241m.\u001b[39msum())\n",
            "File \u001b[0;32m~/anaconda3/lib/python3.12/site-packages/pandas/core/frame.py:9183\u001b[0m, in \u001b[0;36mDataFrame.groupby\u001b[0;34m(self, by, axis, level, as_index, sort, group_keys, observed, dropna)\u001b[0m\n\u001b[1;32m   9180\u001b[0m \u001b[38;5;28;01mif\u001b[39;00m level \u001b[38;5;129;01mis\u001b[39;00m \u001b[38;5;28;01mNone\u001b[39;00m \u001b[38;5;129;01mand\u001b[39;00m by \u001b[38;5;129;01mis\u001b[39;00m \u001b[38;5;28;01mNone\u001b[39;00m:\n\u001b[1;32m   9181\u001b[0m     \u001b[38;5;28;01mraise\u001b[39;00m \u001b[38;5;167;01mTypeError\u001b[39;00m(\u001b[38;5;124m\"\u001b[39m\u001b[38;5;124mYou have to supply one of \u001b[39m\u001b[38;5;124m'\u001b[39m\u001b[38;5;124mby\u001b[39m\u001b[38;5;124m'\u001b[39m\u001b[38;5;124m and \u001b[39m\u001b[38;5;124m'\u001b[39m\u001b[38;5;124mlevel\u001b[39m\u001b[38;5;124m'\u001b[39m\u001b[38;5;124m\"\u001b[39m)\n\u001b[0;32m-> 9183\u001b[0m \u001b[38;5;28;01mreturn\u001b[39;00m DataFrameGroupBy(\n\u001b[1;32m   9184\u001b[0m     obj\u001b[38;5;241m=\u001b[39m\u001b[38;5;28mself\u001b[39m,\n\u001b[1;32m   9185\u001b[0m     keys\u001b[38;5;241m=\u001b[39mby,\n\u001b[1;32m   9186\u001b[0m     axis\u001b[38;5;241m=\u001b[39maxis,\n\u001b[1;32m   9187\u001b[0m     level\u001b[38;5;241m=\u001b[39mlevel,\n\u001b[1;32m   9188\u001b[0m     as_index\u001b[38;5;241m=\u001b[39mas_index,\n\u001b[1;32m   9189\u001b[0m     sort\u001b[38;5;241m=\u001b[39msort,\n\u001b[1;32m   9190\u001b[0m     group_keys\u001b[38;5;241m=\u001b[39mgroup_keys,\n\u001b[1;32m   9191\u001b[0m     observed\u001b[38;5;241m=\u001b[39mobserved,\n\u001b[1;32m   9192\u001b[0m     dropna\u001b[38;5;241m=\u001b[39mdropna,\n\u001b[1;32m   9193\u001b[0m )\n",
            "File \u001b[0;32m~/anaconda3/lib/python3.12/site-packages/pandas/core/groupby/groupby.py:1329\u001b[0m, in \u001b[0;36mGroupBy.__init__\u001b[0;34m(self, obj, keys, axis, level, grouper, exclusions, selection, as_index, sort, group_keys, observed, dropna)\u001b[0m\n\u001b[1;32m   1326\u001b[0m \u001b[38;5;28mself\u001b[39m\u001b[38;5;241m.\u001b[39mdropna \u001b[38;5;241m=\u001b[39m dropna\n\u001b[1;32m   1328\u001b[0m \u001b[38;5;28;01mif\u001b[39;00m grouper \u001b[38;5;129;01mis\u001b[39;00m \u001b[38;5;28;01mNone\u001b[39;00m:\n\u001b[0;32m-> 1329\u001b[0m     grouper, exclusions, obj \u001b[38;5;241m=\u001b[39m get_grouper(\n\u001b[1;32m   1330\u001b[0m         obj,\n\u001b[1;32m   1331\u001b[0m         keys,\n\u001b[1;32m   1332\u001b[0m         axis\u001b[38;5;241m=\u001b[39maxis,\n\u001b[1;32m   1333\u001b[0m         level\u001b[38;5;241m=\u001b[39mlevel,\n\u001b[1;32m   1334\u001b[0m         sort\u001b[38;5;241m=\u001b[39msort,\n\u001b[1;32m   1335\u001b[0m         observed\u001b[38;5;241m=\u001b[39m\u001b[38;5;28;01mFalse\u001b[39;00m \u001b[38;5;28;01mif\u001b[39;00m observed \u001b[38;5;129;01mis\u001b[39;00m lib\u001b[38;5;241m.\u001b[39mno_default \u001b[38;5;28;01melse\u001b[39;00m observed,\n\u001b[1;32m   1336\u001b[0m         dropna\u001b[38;5;241m=\u001b[39m\u001b[38;5;28mself\u001b[39m\u001b[38;5;241m.\u001b[39mdropna,\n\u001b[1;32m   1337\u001b[0m     )\n\u001b[1;32m   1339\u001b[0m \u001b[38;5;28;01mif\u001b[39;00m observed \u001b[38;5;129;01mis\u001b[39;00m lib\u001b[38;5;241m.\u001b[39mno_default:\n\u001b[1;32m   1340\u001b[0m     \u001b[38;5;28;01mif\u001b[39;00m \u001b[38;5;28many\u001b[39m(ping\u001b[38;5;241m.\u001b[39m_passed_categorical \u001b[38;5;28;01mfor\u001b[39;00m ping \u001b[38;5;129;01min\u001b[39;00m grouper\u001b[38;5;241m.\u001b[39mgroupings):\n",
            "File \u001b[0;32m~/anaconda3/lib/python3.12/site-packages/pandas/core/groupby/grouper.py:1043\u001b[0m, in \u001b[0;36mget_grouper\u001b[0;34m(obj, key, axis, level, sort, observed, validate, dropna)\u001b[0m\n\u001b[1;32m   1041\u001b[0m         in_axis, level, gpr \u001b[38;5;241m=\u001b[39m \u001b[38;5;28;01mFalse\u001b[39;00m, gpr, \u001b[38;5;28;01mNone\u001b[39;00m\n\u001b[1;32m   1042\u001b[0m     \u001b[38;5;28;01melse\u001b[39;00m:\n\u001b[0;32m-> 1043\u001b[0m         \u001b[38;5;28;01mraise\u001b[39;00m \u001b[38;5;167;01mKeyError\u001b[39;00m(gpr)\n\u001b[1;32m   1044\u001b[0m \u001b[38;5;28;01melif\u001b[39;00m \u001b[38;5;28misinstance\u001b[39m(gpr, Grouper) \u001b[38;5;129;01mand\u001b[39;00m gpr\u001b[38;5;241m.\u001b[39mkey \u001b[38;5;129;01mis\u001b[39;00m \u001b[38;5;129;01mnot\u001b[39;00m \u001b[38;5;28;01mNone\u001b[39;00m:\n\u001b[1;32m   1045\u001b[0m     \u001b[38;5;66;03m# Add key to exclusions\u001b[39;00m\n\u001b[1;32m   1046\u001b[0m     exclusions\u001b[38;5;241m.\u001b[39madd(gpr\u001b[38;5;241m.\u001b[39mkey)\n",
            "\u001b[0;31mKeyError\u001b[0m: 'brands'"
          ]
        }
      ],
      "source": [
        "print(df.groupby(['brands']).sum())"
      ]
    },
    {
      "cell_type": "code",
      "execution_count": 14,
      "metadata": {
        "colab": {
          "base_uri": "https://localhost:8080/"
        },
        "id": "SHIYe-H6EJlY",
        "outputId": "e2f93eba-9874-43ef-fbf2-8aa96230745f"
      },
      "outputs": [
        {
          "name": "stdout",
          "output_type": "stream",
          "text": [
            "                    price\n",
            "brands     models        \n",
            "Chevrolet  Onix     70000\n",
            "           Prisma   32000\n",
            "Renault    Duster   35000\n",
            "Toyota     Corolla  60000\n",
            "           Etios    35000\n",
            "Volkswagen Fusca     1000\n",
            "[('Chevrolet', 'Onix'), ('Chevrolet', 'Prisma'), ('Renault', 'Duster'), ('Toyota', 'Corolla'), ('Toyota', 'Etios'), ('Volkswagen', 'Fusca')]\n",
            "['price']\n"
          ]
        },
        {
          "data": {
            "text/plain": [
              "70000"
            ]
          },
          "execution_count": 14,
          "metadata": {},
          "output_type": "execute_result"
        }
      ],
      "source": [
        "s = df.groupby(['brands', 'models']).sum()\n",
        "print(s)\n",
        "\n",
        "# print(type(s))\n",
        "print(list(s.index))\n",
        "print(list(s.columns))\n",
        "s['price'][('Chevrolet', 'Onix')]"
      ]
    },
    {
      "cell_type": "code",
      "execution_count": 15,
      "metadata": {
        "colab": {
          "base_uri": "https://localhost:8080/"
        },
        "id": "_pSSfiLMheEc",
        "outputId": "1079c3f9-45b7-40de-fe3c-e284c7321aa2"
      },
      "outputs": [
        {
          "name": "stdout",
          "output_type": "stream",
          "text": [
            "                    price\n",
            "brands     models        \n",
            "Volkswagen Fusca     1000\n",
            "Chevrolet  Prisma   32000\n",
            "Renault    Duster   35000\n",
            "Toyota     Etios    35000\n",
            "           Corolla  60000\n",
            "Chevrolet  Onix     70000\n"
          ]
        }
      ],
      "source": [
        "# grouped = df.groupby('brands')\n",
        "# print(type(grouped))\n",
        "# print(dir(grouped))\n",
        "# print(grouped.size())\n",
        "\n",
        "# s = df.groupby('brands').sum()\n",
        "# print(s)\n",
        "\n",
        "# print(type(s))\n",
        "print(s.sort_values(by = 'price', ascending = True))"
      ]
    },
    {
      "cell_type": "markdown",
      "metadata": {
        "id": "UipbMIdNhgJq"
      },
      "source": [
        "## 2.10 Higienização de DataFrames"
      ]
    },
    {
      "cell_type": "code",
      "execution_count": 16,
      "metadata": {
        "colab": {
          "base_uri": "https://localhost:8080/"
        },
        "id": "BUtJH5Zqhh9-",
        "outputId": "a51aa92e-70ef-4ffc-e815-5489f6c69325"
      },
      "outputs": [
        {
          "name": "stdout",
          "output_type": "stream",
          "text": [
            "   apples  oranges  grapes\n",
            "0     2.0        3       3\n",
            "1     NaN        2       2\n",
            "2     1.0        1       1\n",
            "3     5.0        3       3\n",
            "4     1.0        1       1\n"
          ]
        }
      ],
      "source": [
        "import numpy as np\n",
        "d = {'apples': [2, np.nan, 1, 5, 1],\n",
        "     'oranges': [3, 2, 1, 3, 1],\n",
        "     'grapes': [3, 2, 1, 3, 1]}\n",
        "\n",
        "df = pd.DataFrame(d)\n",
        "print(df)"
      ]
    },
    {
      "cell_type": "code",
      "execution_count": 17,
      "metadata": {
        "colab": {
          "base_uri": "https://localhost:8080/",
          "height": 300
        },
        "id": "we_aZoL59Eet",
        "outputId": "8dcd8e49-e15a-4611-b699-8ccd98c3ea81"
      },
      "outputs": [
        {
          "data": {
            "text/html": [
              "<div>\n",
              "<style scoped>\n",
              "    .dataframe tbody tr th:only-of-type {\n",
              "        vertical-align: middle;\n",
              "    }\n",
              "\n",
              "    .dataframe tbody tr th {\n",
              "        vertical-align: top;\n",
              "    }\n",
              "\n",
              "    .dataframe thead th {\n",
              "        text-align: right;\n",
              "    }\n",
              "</style>\n",
              "<table border=\"1\" class=\"dataframe\">\n",
              "  <thead>\n",
              "    <tr style=\"text-align: right;\">\n",
              "      <th></th>\n",
              "      <th>apples</th>\n",
              "      <th>oranges</th>\n",
              "      <th>grapes</th>\n",
              "    </tr>\n",
              "  </thead>\n",
              "  <tbody>\n",
              "    <tr>\n",
              "      <th>count</th>\n",
              "      <td>4.000000</td>\n",
              "      <td>5.0</td>\n",
              "      <td>5.0</td>\n",
              "    </tr>\n",
              "    <tr>\n",
              "      <th>mean</th>\n",
              "      <td>2.250000</td>\n",
              "      <td>2.0</td>\n",
              "      <td>2.0</td>\n",
              "    </tr>\n",
              "    <tr>\n",
              "      <th>std</th>\n",
              "      <td>1.892969</td>\n",
              "      <td>1.0</td>\n",
              "      <td>1.0</td>\n",
              "    </tr>\n",
              "    <tr>\n",
              "      <th>min</th>\n",
              "      <td>1.000000</td>\n",
              "      <td>1.0</td>\n",
              "      <td>1.0</td>\n",
              "    </tr>\n",
              "    <tr>\n",
              "      <th>25%</th>\n",
              "      <td>1.000000</td>\n",
              "      <td>1.0</td>\n",
              "      <td>1.0</td>\n",
              "    </tr>\n",
              "    <tr>\n",
              "      <th>50%</th>\n",
              "      <td>1.500000</td>\n",
              "      <td>2.0</td>\n",
              "      <td>2.0</td>\n",
              "    </tr>\n",
              "    <tr>\n",
              "      <th>75%</th>\n",
              "      <td>2.750000</td>\n",
              "      <td>3.0</td>\n",
              "      <td>3.0</td>\n",
              "    </tr>\n",
              "    <tr>\n",
              "      <th>max</th>\n",
              "      <td>5.000000</td>\n",
              "      <td>3.0</td>\n",
              "      <td>3.0</td>\n",
              "    </tr>\n",
              "  </tbody>\n",
              "</table>\n",
              "</div>"
            ],
            "text/plain": [
              "         apples  oranges  grapes\n",
              "count  4.000000      5.0     5.0\n",
              "mean   2.250000      2.0     2.0\n",
              "std    1.892969      1.0     1.0\n",
              "min    1.000000      1.0     1.0\n",
              "25%    1.000000      1.0     1.0\n",
              "50%    1.500000      2.0     2.0\n",
              "75%    2.750000      3.0     3.0\n",
              "max    5.000000      3.0     3.0"
            ]
          },
          "execution_count": 17,
          "metadata": {},
          "output_type": "execute_result"
        }
      ],
      "source": [
        "df.describe()"
      ]
    },
    {
      "cell_type": "code",
      "execution_count": 18,
      "metadata": {
        "colab": {
          "base_uri": "https://localhost:8080/"
        },
        "id": "YssqkZ5OsNjZ",
        "outputId": "9fea5140-cf8d-4eac-e731-dcb655fa37bc"
      },
      "outputs": [
        {
          "name": "stdout",
          "output_type": "stream",
          "text": [
            "<class 'pandas.core.frame.DataFrame'>\n",
            "RangeIndex: 5 entries, 0 to 4\n",
            "Data columns (total 3 columns):\n",
            " #   Column   Non-Null Count  Dtype  \n",
            "---  ------   --------------  -----  \n",
            " 0   apples   4 non-null      float64\n",
            " 1   oranges  5 non-null      int64  \n",
            " 2   grapes   5 non-null      int64  \n",
            "dtypes: float64(1), int64(2)\n",
            "memory usage: 252.0 bytes\n"
          ]
        }
      ],
      "source": [
        "df.info()"
      ]
    },
    {
      "cell_type": "code",
      "execution_count": 19,
      "metadata": {
        "colab": {
          "base_uri": "https://localhost:8080/"
        },
        "id": "6rCUxiNkTlaR",
        "outputId": "1b76fbc0-344a-40cc-8a92-3a65f3b503ea"
      },
      "outputs": [
        {
          "data": {
            "text/plain": [
              "2.25"
            ]
          },
          "execution_count": 19,
          "metadata": {},
          "output_type": "execute_result"
        }
      ],
      "source": [
        "df['apples'].mean()"
      ]
    },
    {
      "cell_type": "code",
      "execution_count": 20,
      "metadata": {
        "colab": {
          "base_uri": "https://localhost:8080/"
        },
        "id": "YwkhOEUV7XpM",
        "outputId": "a550b531-24b7-4e6f-da88-689ad3e0838e"
      },
      "outputs": [
        {
          "name": "stdout",
          "output_type": "stream",
          "text": [
            "   apples  oranges  grapes\n",
            "0     2.0        3       3\n",
            "2     1.0        1       1\n",
            "3     5.0        3       3\n",
            "4     1.0        1       1\n",
            "   oranges  grapes\n",
            "0        3       3\n",
            "1        2       2\n",
            "2        1       1\n",
            "3        3       3\n",
            "4        1       1\n"
          ]
        }
      ],
      "source": [
        "print(df.dropna(axis = 0, how = 'any')) # Removing missing values in index direction\n",
        "print(df.dropna(axis = 1, how = 'any')) # Removing missing values in column direction"
      ]
    },
    {
      "cell_type": "code",
      "execution_count": 21,
      "metadata": {
        "colab": {
          "base_uri": "https://localhost:8080/",
          "height": 206
        },
        "id": "nQ02xILU93Rj",
        "outputId": "4c54a3fb-38f7-4f4a-e47d-ed12d62ddc46"
      },
      "outputs": [
        {
          "data": {
            "text/html": [
              "<div>\n",
              "<style scoped>\n",
              "    .dataframe tbody tr th:only-of-type {\n",
              "        vertical-align: middle;\n",
              "    }\n",
              "\n",
              "    .dataframe tbody tr th {\n",
              "        vertical-align: top;\n",
              "    }\n",
              "\n",
              "    .dataframe thead th {\n",
              "        text-align: right;\n",
              "    }\n",
              "</style>\n",
              "<table border=\"1\" class=\"dataframe\">\n",
              "  <thead>\n",
              "    <tr style=\"text-align: right;\">\n",
              "      <th></th>\n",
              "      <th>apples</th>\n",
              "      <th>oranges</th>\n",
              "      <th>grapes</th>\n",
              "    </tr>\n",
              "  </thead>\n",
              "  <tbody>\n",
              "    <tr>\n",
              "      <th>0</th>\n",
              "      <td>2.0</td>\n",
              "      <td>3</td>\n",
              "      <td>3</td>\n",
              "    </tr>\n",
              "    <tr>\n",
              "      <th>1</th>\n",
              "      <td>NaN</td>\n",
              "      <td>2</td>\n",
              "      <td>2</td>\n",
              "    </tr>\n",
              "    <tr>\n",
              "      <th>2</th>\n",
              "      <td>1.0</td>\n",
              "      <td>1</td>\n",
              "      <td>1</td>\n",
              "    </tr>\n",
              "    <tr>\n",
              "      <th>3</th>\n",
              "      <td>5.0</td>\n",
              "      <td>3</td>\n",
              "      <td>3</td>\n",
              "    </tr>\n",
              "    <tr>\n",
              "      <th>4</th>\n",
              "      <td>1.0</td>\n",
              "      <td>1</td>\n",
              "      <td>1</td>\n",
              "    </tr>\n",
              "  </tbody>\n",
              "</table>\n",
              "</div>"
            ],
            "text/plain": [
              "   apples  oranges  grapes\n",
              "0     2.0        3       3\n",
              "1     NaN        2       2\n",
              "2     1.0        1       1\n",
              "3     5.0        3       3\n",
              "4     1.0        1       1"
            ]
          },
          "execution_count": 21,
          "metadata": {},
          "output_type": "execute_result"
        }
      ],
      "source": [
        "df"
      ]
    },
    {
      "cell_type": "code",
      "execution_count": 22,
      "metadata": {
        "colab": {
          "base_uri": "https://localhost:8080/"
        },
        "id": "8qDbi8G-7a2X",
        "outputId": "a7e63a94-7aa2-4866-ba62-697446fff92e"
      },
      "outputs": [
        {
          "name": "stdout",
          "output_type": "stream",
          "text": [
            "   apples  oranges  grapes\n",
            "0     2.0        3       3\n",
            "1     NaN        2       2\n",
            "2     1.0        1       1\n",
            "3     5.0        3       3\n"
          ]
        }
      ],
      "source": [
        "print(df.drop_duplicates(keep = 'first')) # Removing duplicated rows (but keeping the first)"
      ]
    },
    {
      "cell_type": "code",
      "execution_count": 23,
      "metadata": {
        "colab": {
          "base_uri": "https://localhost:8080/",
          "height": 143
        },
        "id": "IciQL9pS-OZ5",
        "outputId": "28773644-62b0-431a-aeba-d433df2d83cc"
      },
      "outputs": [
        {
          "data": {
            "text/html": [
              "<div>\n",
              "<style scoped>\n",
              "    .dataframe tbody tr th:only-of-type {\n",
              "        vertical-align: middle;\n",
              "    }\n",
              "\n",
              "    .dataframe tbody tr th {\n",
              "        vertical-align: top;\n",
              "    }\n",
              "\n",
              "    .dataframe thead th {\n",
              "        text-align: right;\n",
              "    }\n",
              "</style>\n",
              "<table border=\"1\" class=\"dataframe\">\n",
              "  <thead>\n",
              "    <tr style=\"text-align: right;\">\n",
              "      <th></th>\n",
              "      <th>0</th>\n",
              "      <th>1</th>\n",
              "      <th>2</th>\n",
              "      <th>3</th>\n",
              "      <th>4</th>\n",
              "    </tr>\n",
              "  </thead>\n",
              "  <tbody>\n",
              "    <tr>\n",
              "      <th>apples</th>\n",
              "      <td>2.0</td>\n",
              "      <td>NaN</td>\n",
              "      <td>1.0</td>\n",
              "      <td>5.0</td>\n",
              "      <td>1.0</td>\n",
              "    </tr>\n",
              "    <tr>\n",
              "      <th>oranges</th>\n",
              "      <td>3.0</td>\n",
              "      <td>2.0</td>\n",
              "      <td>1.0</td>\n",
              "      <td>3.0</td>\n",
              "      <td>1.0</td>\n",
              "    </tr>\n",
              "    <tr>\n",
              "      <th>grapes</th>\n",
              "      <td>3.0</td>\n",
              "      <td>2.0</td>\n",
              "      <td>1.0</td>\n",
              "      <td>3.0</td>\n",
              "      <td>1.0</td>\n",
              "    </tr>\n",
              "  </tbody>\n",
              "</table>\n",
              "</div>"
            ],
            "text/plain": [
              "           0    1    2    3    4\n",
              "apples   2.0  NaN  1.0  5.0  1.0\n",
              "oranges  3.0  2.0  1.0  3.0  1.0\n",
              "grapes   3.0  2.0  1.0  3.0  1.0"
            ]
          },
          "execution_count": 23,
          "metadata": {},
          "output_type": "execute_result"
        }
      ],
      "source": [
        "df.T"
      ]
    },
    {
      "cell_type": "code",
      "execution_count": 24,
      "metadata": {
        "colab": {
          "base_uri": "https://localhost:8080/"
        },
        "id": "Gl_jeShVhjPt",
        "outputId": "5a5f549f-bd58-4368-d04b-890d8f50ad11"
      },
      "outputs": [
        {
          "name": "stdout",
          "output_type": "stream",
          "text": [
            "   apples  grapes\n",
            "0     2.0     3.0\n",
            "1     NaN     2.0\n",
            "2     1.0     1.0\n",
            "3     5.0     3.0\n",
            "4     1.0     1.0\n"
          ]
        }
      ],
      "source": [
        "print(df.T.drop_duplicates(keep = 'last', ).T) # Removing duplicated columns (but keeping the first)"
      ]
    },
    {
      "cell_type": "code",
      "execution_count": 25,
      "metadata": {
        "colab": {
          "base_uri": "https://localhost:8080/"
        },
        "id": "z9AD6pTm7h93",
        "outputId": "294498a1-4ee0-43b1-bcac-35d4e30f2df6"
      },
      "outputs": [
        {
          "name": "stdout",
          "output_type": "stream",
          "text": [
            "   apples  oranges  grapes\n",
            "0     2.0        3       3\n",
            "3     5.0        3       3\n",
            "   apples  oranges  grapes\n",
            "0     2.0        3       3\n",
            "1     5.0        3       3\n"
          ]
        }
      ],
      "source": [
        "# print(df.apples > 1)\n",
        "print(df[df.apples > 1]) # Removing rows with zero values on column 'apples'\n",
        "df2 = df[df.apples > 1]\n",
        "print(df[df.apples > 1].reset_index(drop = True)) # ...and reseting the indexes"
      ]
    },
    {
      "cell_type": "code",
      "execution_count": 26,
      "metadata": {
        "colab": {
          "base_uri": "https://localhost:8080/",
          "height": 112
        },
        "id": "E_nmrvif_ShM",
        "outputId": "bed51a88-3492-4acf-89ea-573c5f12ed3f"
      },
      "outputs": [
        {
          "data": {
            "text/html": [
              "<div>\n",
              "<style scoped>\n",
              "    .dataframe tbody tr th:only-of-type {\n",
              "        vertical-align: middle;\n",
              "    }\n",
              "\n",
              "    .dataframe tbody tr th {\n",
              "        vertical-align: top;\n",
              "    }\n",
              "\n",
              "    .dataframe thead th {\n",
              "        text-align: right;\n",
              "    }\n",
              "</style>\n",
              "<table border=\"1\" class=\"dataframe\">\n",
              "  <thead>\n",
              "    <tr style=\"text-align: right;\">\n",
              "      <th></th>\n",
              "      <th>apples</th>\n",
              "      <th>oranges</th>\n",
              "      <th>grapes</th>\n",
              "    </tr>\n",
              "  </thead>\n",
              "  <tbody>\n",
              "    <tr>\n",
              "      <th>0</th>\n",
              "      <td>2.0</td>\n",
              "      <td>3</td>\n",
              "      <td>3</td>\n",
              "    </tr>\n",
              "    <tr>\n",
              "      <th>1</th>\n",
              "      <td>5.0</td>\n",
              "      <td>3</td>\n",
              "      <td>3</td>\n",
              "    </tr>\n",
              "  </tbody>\n",
              "</table>\n",
              "</div>"
            ],
            "text/plain": [
              "   apples  oranges  grapes\n",
              "0     2.0        3       3\n",
              "1     5.0        3       3"
            ]
          },
          "execution_count": 26,
          "metadata": {},
          "output_type": "execute_result"
        }
      ],
      "source": [
        "df2.reset_index(drop=True)"
      ]
    },
    {
      "cell_type": "markdown",
      "metadata": {
        "id": "rlmuvv8ThlKV"
      },
      "source": [
        "## 2.11 Relacionando DataFrames\n",
        "\n",
        "![picture](https://drive.google.com/thumbnail?id=14du9_I7BTfOFm8HQ4ojy1TqPFIgeVxPZ&sz=w1200)"
      ]
    },
    {
      "cell_type": "code",
      "execution_count": 27,
      "metadata": {
        "colab": {
          "base_uri": "https://localhost:8080/",
          "height": 237
        },
        "id": "9-TncbeChl7w",
        "outputId": "b5864cf8-8087-4c1e-ff6e-54f1d431c363"
      },
      "outputs": [
        {
          "data": {
            "text/html": [
              "<div>\n",
              "<style scoped>\n",
              "    .dataframe tbody tr th:only-of-type {\n",
              "        vertical-align: middle;\n",
              "    }\n",
              "\n",
              "    .dataframe tbody tr th {\n",
              "        vertical-align: top;\n",
              "    }\n",
              "\n",
              "    .dataframe thead th {\n",
              "        text-align: right;\n",
              "    }\n",
              "</style>\n",
              "<table border=\"1\" class=\"dataframe\">\n",
              "  <thead>\n",
              "    <tr style=\"text-align: right;\">\n",
              "      <th></th>\n",
              "      <th>Customer_id</th>\n",
              "      <th>Product</th>\n",
              "    </tr>\n",
              "  </thead>\n",
              "  <tbody>\n",
              "    <tr>\n",
              "      <th>0</th>\n",
              "      <td>1</td>\n",
              "      <td>Oven</td>\n",
              "    </tr>\n",
              "    <tr>\n",
              "      <th>1</th>\n",
              "      <td>2</td>\n",
              "      <td>Oven</td>\n",
              "    </tr>\n",
              "    <tr>\n",
              "      <th>2</th>\n",
              "      <td>3</td>\n",
              "      <td>Oven</td>\n",
              "    </tr>\n",
              "    <tr>\n",
              "      <th>3</th>\n",
              "      <td>4</td>\n",
              "      <td>Television</td>\n",
              "    </tr>\n",
              "    <tr>\n",
              "      <th>4</th>\n",
              "      <td>5</td>\n",
              "      <td>Television</td>\n",
              "    </tr>\n",
              "    <tr>\n",
              "      <th>5</th>\n",
              "      <td>7</td>\n",
              "      <td>Television</td>\n",
              "    </tr>\n",
              "  </tbody>\n",
              "</table>\n",
              "</div>"
            ],
            "text/plain": [
              "   Customer_id     Product\n",
              "0            1        Oven\n",
              "1            2        Oven\n",
              "2            3        Oven\n",
              "3            4  Television\n",
              "4            5  Television\n",
              "5            7  Television"
            ]
          },
          "execution_count": 27,
          "metadata": {},
          "output_type": "execute_result"
        }
      ],
      "source": [
        "d = {'Customer_id': pd.Series([1, 2, 3, 4, 5, 7]),\n",
        "     'Product': pd.Series(['Oven', 'Oven', 'Oven', 'Television', 'Television', 'Television'])}\n",
        "df0 = pd.DataFrame(d)\n",
        "df0"
      ]
    },
    {
      "cell_type": "code",
      "execution_count": 28,
      "metadata": {
        "colab": {
          "base_uri": "https://localhost:8080/",
          "height": 143
        },
        "id": "9qKNvB7v7q9G",
        "outputId": "bdc24703-59a9-4fd2-cd65-430bd9d612cc"
      },
      "outputs": [
        {
          "data": {
            "text/html": [
              "<div>\n",
              "<style scoped>\n",
              "    .dataframe tbody tr th:only-of-type {\n",
              "        vertical-align: middle;\n",
              "    }\n",
              "\n",
              "    .dataframe tbody tr th {\n",
              "        vertical-align: top;\n",
              "    }\n",
              "\n",
              "    .dataframe thead th {\n",
              "        text-align: right;\n",
              "    }\n",
              "</style>\n",
              "<table border=\"1\" class=\"dataframe\">\n",
              "  <thead>\n",
              "    <tr style=\"text-align: right;\">\n",
              "      <th></th>\n",
              "      <th>Customer_id</th>\n",
              "      <th>State</th>\n",
              "    </tr>\n",
              "  </thead>\n",
              "  <tbody>\n",
              "    <tr>\n",
              "      <th>0</th>\n",
              "      <td>2</td>\n",
              "      <td>California</td>\n",
              "    </tr>\n",
              "    <tr>\n",
              "      <th>1</th>\n",
              "      <td>4</td>\n",
              "      <td>California</td>\n",
              "    </tr>\n",
              "    <tr>\n",
              "      <th>2</th>\n",
              "      <td>6</td>\n",
              "      <td>Texas</td>\n",
              "    </tr>\n",
              "  </tbody>\n",
              "</table>\n",
              "</div>"
            ],
            "text/plain": [
              "   Customer_id       State\n",
              "0            2  California\n",
              "1            4  California\n",
              "2            6       Texas"
            ]
          },
          "execution_count": 28,
          "metadata": {},
          "output_type": "execute_result"
        }
      ],
      "source": [
        "d = {'Customer_id': pd.Series([2, 4, 6]),\n",
        "     'State': pd.Series(['California', 'California', 'Texas'])}\n",
        "df1 = pd.DataFrame(d)\n",
        "df1"
      ]
    },
    {
      "cell_type": "code",
      "execution_count": 29,
      "metadata": {
        "colab": {
          "base_uri": "https://localhost:8080/"
        },
        "id": "ReXqXwp7hoVr",
        "outputId": "466ec2dd-a1cc-4cf4-c990-dd3f14afd17d"
      },
      "outputs": [
        {
          "name": "stdout",
          "output_type": "stream",
          "text": [
            "   Customer_id     Product       State\n",
            "0            2        Oven  California\n",
            "1            4  Television  California\n"
          ]
        }
      ],
      "source": [
        "print(pd.merge(df0, df1, on = 'Customer_id', how = 'inner')) # inner join\n",
        "\n",
        "# print(pd.merge(df0, df1, on = 'Customer_id', how = 'outer')) # outter join\n",
        "# print(pd.merge(df0, df1, on = 'Customer_id', how = 'left')) # left join\n",
        "# print(pd.merge(df0, df1, on = 'Customer_id', how = 'right')) # right join"
      ]
    },
    {
      "cell_type": "markdown",
      "metadata": {
        "id": "IZ3CwFk5KSN9"
      },
      "source": [
        "# Referências\n",
        "\n",
        "[1] <a> https://docs.python.org/pt-br/3/tutorial/</a>\n",
        "\n",
        "[2] <a> https://pandas.pydata.org/</a>\n",
        "\n",
        "[3] Joel Grus. Data science from scratch: first principles with python. O'Reilly Media, 2019."
      ]
    }
  ],
  "metadata": {
    "colab": {
      "provenance": []
    },
    "kernelspec": {
      "display_name": "base",
      "language": "python",
      "name": "python3"
    },
    "language_info": {
      "codemirror_mode": {
        "name": "ipython",
        "version": 3
      },
      "file_extension": ".py",
      "mimetype": "text/x-python",
      "name": "python",
      "nbconvert_exporter": "python",
      "pygments_lexer": "ipython3",
      "version": "3.12.7"
    }
  },
  "nbformat": 4,
  "nbformat_minor": 0
}
