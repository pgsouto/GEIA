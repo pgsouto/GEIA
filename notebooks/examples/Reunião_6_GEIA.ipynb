{
  "nbformat": 4,
  "nbformat_minor": 0,
  "metadata": {
    "colab": {
      "provenance": []
    },
    "kernelspec": {
      "name": "python3",
      "display_name": "Python 3"
    },
    "language_info": {
      "name": "python"
    }
  },
  "cells": [
    {
      "cell_type": "markdown",
      "source": [
        "# X500 - Introdução à Ciência de Dados\n",
        "\n",
        "Prof. Erneson Alves de Oliveira<br>\n",
        "Programa de Pós-Graduação em Informática Aplicada<br>\n",
        "Universidade de Fortaleza"
      ],
      "metadata": {
        "id": "TVnRFtKl2-3o"
      }
    },
    {
      "cell_type": "markdown",
      "source": [
        "# Introdução à Estatística (Parte II)"
      ],
      "metadata": {
        "id": "P8a6gX6h_6V3"
      }
    },
    {
      "cell_type": "markdown",
      "source": [
        "# 1 Quantis\n",
        "\n",
        "- Quartis ($q_1, q_2, q_3$): Divide o dado em 4 partes iguais (25%, 50% e 75%);\n",
        "\n",
        "- Decis ($d_1, \\dots, d_9$): Divide o dado em 10 partes iguais (de 10% em 10%);\n",
        "\n",
        "- Percentis ($p_1, \\dots, p_{99}$): Divide o dado em 100 partes iguais (de 1% em 1%).\n",
        "\n",
        "Logo,\n",
        "\n",
        "\\begin{equation}\n",
        "q_2(x) = d_5(x) = p_{50}(x) = mediana(x)\n",
        "\\end{equation}\n",
        "\n",
        "Nesse contexto, o intervalo interquartis é definido por:\n",
        "\n",
        "\\begin{equation}\n",
        "IIQ = q_3 - q_1\n",
        "\\end{equation}"
      ],
      "metadata": {
        "id": "uWNFR_saZQ34"
      }
    },
    {
      "cell_type": "code",
      "source": [
        "import math\n",
        "\n",
        "def calcula_quantis(x, q = 4):\n",
        "    x_ordenado = sorted(x)\n",
        "    n = len(x_ordenado)\n",
        "    quantis = []\n",
        "    for k in range(1, q):\n",
        "        posto = n * k / q - 1\n",
        "        i = math.floor(posto)\n",
        "        j = math.ceil(posto)\n",
        "        if i == j:\n",
        "            quantis.append((x_ordenado[i] + x_ordenado[i + 1]) / 2)\n",
        "        else:\n",
        "            quantis.append(x_ordenado[j])\n",
        "    return quantis\n",
        "\n",
        "x = list(range(10))\n",
        "print(x)\n",
        "\n",
        "quartis = calcula_quantis(x)\n",
        "print(quartis)\n",
        "\n",
        "decis = calcula_quantis(x, q = 10)\n",
        "print(decis)\n",
        "\n",
        "percentis = calcula_quantis(x, q = 100)\n",
        "print(percentis)\n",
        "\n",
        "print(quartis[2 - 1], decis[5 - 1], percentis[50 - 1])\n",
        "\n",
        "iiq = quartis[3 - 1] - quartis[1 - 1]\n",
        "print(iiq)"
      ],
      "metadata": {
        "colab": {
          "base_uri": "https://localhost:8080/"
        },
        "id": "eJcuBGcXps25",
        "outputId": "c11e4ca7-a57d-4203-f373-6ebdf1035c6c"
      },
      "execution_count": null,
      "outputs": [
        {
          "output_type": "stream",
          "name": "stdout",
          "text": [
            "[0, 1, 2, 3, 4, 5, 6, 7, 8, 9]\n",
            "[2, 4.5, 7]\n",
            "[0.5, 1.5, 2.5, 3.5, 4.5, 5.5, 6.5, 7.5, 8.5]\n",
            "[0, 0, 0, 0, 0, 0, 0, 0, 0, 0.5, 1, 1, 1, 1, 1, 1, 1, 1, 1, 1.5, 2, 2, 2, 2, 2, 2, 2, 2, 2, 2.5, 3, 3, 3, 3, 3, 3, 3, 3, 3, 3.5, 4, 4, 4, 4, 4, 4, 4, 4, 4, 4.5, 5, 5, 5, 5, 5, 5, 5, 5, 5, 5.5, 6, 6, 6, 6, 6, 6, 6, 6, 6, 6.5, 7, 7, 7, 7, 7, 7, 7, 7, 7, 7.5, 8, 8, 8, 8, 8, 8, 8, 8, 8, 8.5, 9, 9, 9, 9, 9, 9, 9, 9, 9]\n",
            "4.5 4.5 4.5\n",
            "5\n"
          ]
        }
      ]
    },
    {
      "cell_type": "code",
      "source": [
        "import statistics as stats\n",
        "\n",
        "quartis = stats.quantiles(x, method = 'exclusive')\n",
        "print(quartis)\n",
        "\n",
        "quartis = stats.quantiles(x, method = 'inclusive')\n",
        "print(quartis)\n",
        "\n",
        "decis = stats.quantiles(x, n = 10)\n",
        "print(decis)\n",
        "\n",
        "percentis = stats.quantiles(x, n = 100)\n",
        "print(percentis)\n",
        "\n",
        "print(quartis[2 - 1], decis[5 - 1], percentis[50 - 1])"
      ],
      "metadata": {
        "colab": {
          "base_uri": "https://localhost:8080/"
        },
        "id": "EbvoR4Qaj-k2",
        "outputId": "d1179a17-4485-45ec-8032-d35e5433bf1f"
      },
      "execution_count": null,
      "outputs": [
        {
          "output_type": "stream",
          "name": "stdout",
          "text": [
            "[1.75, 4.5, 7.25]\n",
            "[2.25, 4.5, 6.75]\n",
            "[0.1, 1.2, 2.3, 3.4, 4.5, 5.6, 6.7, 7.8, 8.9]\n",
            "[-0.89, -0.78, -0.67, -0.56, -0.45, -0.34, -0.23, -0.12, -0.01, 0.1, 0.21, 0.32, 0.43, 0.54, 0.65, 0.76, 0.87, 0.98, 1.09, 1.2, 1.31, 1.42, 1.53, 1.64, 1.75, 1.86, 1.97, 2.08, 2.19, 2.3, 2.41, 2.52, 2.63, 2.74, 2.85, 2.96, 3.07, 3.18, 3.29, 3.4, 3.51, 3.62, 3.73, 3.84, 3.95, 4.06, 4.17, 4.28, 4.39, 4.5, 4.61, 4.72, 4.83, 4.94, 5.05, 5.16, 5.27, 5.38, 5.49, 5.6, 5.71, 5.82, 5.93, 6.04, 6.15, 6.26, 6.37, 6.48, 6.59, 6.7, 6.81, 6.92, 7.03, 7.14, 7.25, 7.36, 7.47, 7.58, 7.69, 7.8, 7.91, 8.02, 8.13, 8.24, 8.35, 8.46, 8.57, 8.68, 8.79, 8.9, 9.01, 9.12, 9.23, 9.34, 9.45, 9.56, 9.67, 9.78, 9.89]\n",
            "4.5 4.5 4.5\n"
          ]
        }
      ]
    },
    {
      "cell_type": "code",
      "source": [
        "import numpy as np\n",
        "\n",
        "quartis = np.quantile(x, [0.25, 0.5, 0.75], method = 'linear')\n",
        "print(quartis)\n",
        "quartis = np.quantile(x, [0.25, 0.5, 0.75], method = 'weibull')\n",
        "print(quartis)\n",
        "quartis = np.quantile(x, [0.25, 0.5, 0.75], method = 'averaged_inverted_cdf')\n",
        "print(quartis)"
      ],
      "metadata": {
        "colab": {
          "base_uri": "https://localhost:8080/"
        },
        "id": "fC1wULD4X3AY",
        "outputId": "23261d24-ac0e-410b-ddf2-5561db0136a1"
      },
      "execution_count": null,
      "outputs": [
        {
          "output_type": "stream",
          "name": "stdout",
          "text": [
            "[2.25 4.5  6.75]\n",
            "[1.75 4.5  7.25]\n",
            "[2.  4.5 7. ]\n"
          ]
        }
      ]
    },
    {
      "cell_type": "markdown",
      "source": [
        "Para saber mais sobre esses métodos: https://www.jstor.org/stable/2684934"
      ],
      "metadata": {
        "id": "SUgkQVemYYY_"
      }
    },
    {
      "cell_type": "markdown",
      "source": [
        "# 2 Associação entre variáveis"
      ],
      "metadata": {
        "id": "6rhmV6HP3ZHF"
      }
    },
    {
      "cell_type": "markdown",
      "source": [
        "## 2.1 Covariância\n",
        "\n",
        "- Covariância Populacional:\n",
        "\n",
        "\\begin{equation}\n",
        "\\sigma_{xy} = \\frac{1}{N}\\sum_{i=1}^N (x_i - \\mu_x)(y_i - \\mu_y)\n",
        "\\end{equation}\n",
        "\n",
        "- Covariância Amostral:\n",
        "\n",
        "\\begin{equation}\n",
        "s_{xy} = \\frac{1}{n-1}\\sum_{i=1}^n (x_i - \\bar{x})(y_i - \\bar{y})\n",
        "\\end{equation}\n",
        "\n",
        "Veja também: https://www.youtube.com/watch?v=qtaqvPAeEJY"
      ],
      "metadata": {
        "id": "dFv4-p5Zg7-4"
      }
    },
    {
      "cell_type": "code",
      "source": [
        "def media(x):\n",
        "    return sum(x) / len(x)\n",
        "\n",
        "def covariancia(x, y, amostral = False):\n",
        "    x_barra = media(x)\n",
        "    y_barra = media(y)\n",
        "\n",
        "    S = 0.\n",
        "    for x_i, y_i in zip(x, y):\n",
        "        S += (x_i - x_barra) * (y_i - y_barra)\n",
        "\n",
        "    if amostral:\n",
        "        return S / (len(x) - 1)\n",
        "    else:\n",
        "        return S / len(x)\n",
        "\n",
        "x = list(range(10))\n",
        "y = list(range(10))[::-1]\n",
        "\n",
        "print(x)\n",
        "print(y)\n",
        "print(covariancia(x, y))\n",
        "print(covariancia(x, y, amostral = True))"
      ],
      "metadata": {
        "id": "DB1MpeU7YGip",
        "colab": {
          "base_uri": "https://localhost:8080/"
        },
        "outputId": "266e0a37-71b2-40f8-f862-f0247ca677c3"
      },
      "execution_count": null,
      "outputs": [
        {
          "output_type": "stream",
          "name": "stdout",
          "text": [
            "[0, 1, 2, 3, 4, 5, 6, 7, 8, 9]\n",
            "[9, 8, 7, 6, 5, 4, 3, 2, 1, 0]\n",
            "-8.25\n",
            "-9.166666666666666\n"
          ]
        }
      ]
    },
    {
      "cell_type": "code",
      "source": [
        "import statistics as stats\n",
        "print(stats.covariance(x, y))"
      ],
      "metadata": {
        "id": "Js5rcYTjcW_Z",
        "colab": {
          "base_uri": "https://localhost:8080/"
        },
        "outputId": "f34e1763-5c0e-4b16-f7a1-16ebb5b399f6"
      },
      "execution_count": null,
      "outputs": [
        {
          "output_type": "stream",
          "name": "stdout",
          "text": [
            "-9.166666666666666\n"
          ]
        }
      ]
    },
    {
      "cell_type": "code",
      "source": [
        "M = np.array([x, y])\n",
        "print(M)\n",
        "\n",
        "print(np.cov(M))\n",
        "print(np.cov(M)[0, 1])"
      ],
      "metadata": {
        "id": "_FlgcDN7vCCc",
        "colab": {
          "base_uri": "https://localhost:8080/"
        },
        "outputId": "f0fbb6ff-9263-453e-b2cf-d058622850fa"
      },
      "execution_count": null,
      "outputs": [
        {
          "output_type": "stream",
          "name": "stdout",
          "text": [
            "[[0 1 2 3 4 5 6 7 8 9]\n",
            " [9 8 7 6 5 4 3 2 1 0]]\n",
            "[[ 9.16666667 -9.16666667]\n",
            " [-9.16666667  9.16666667]]\n",
            "-9.166666666666666\n"
          ]
        }
      ]
    },
    {
      "cell_type": "markdown",
      "source": [
        "## 2.2 Coeficiente de Correlação de Pearson\n",
        "\n",
        "\\begin{equation}\n",
        "r_{xy} = \\frac{s_{xy}}{s_x s_y} = \\frac{\\sum_{i=1}^n (x_i - \\bar{x})(y_i - \\bar{y})}{\\sqrt{\\sum_{i=1}^n (x_i - \\bar{x})^2} \\sqrt{\\sum_{i=1}^n (y_i - \\bar{y})^2}}\n",
        "\\end{equation}\n",
        "\n",
        "Veja também: https://www.youtube.com/watch?v=xZ_z8KWkhXE"
      ],
      "metadata": {
        "id": "n1bNkGeSaF4W"
      }
    },
    {
      "cell_type": "markdown",
      "source": [
        "![picture](https://drive.google.com/thumbnail?id=1lNukn_tMdRmzgtrz8IQQEOC6b_YVrEyS&sz=w600)"
      ],
      "metadata": {
        "id": "2E4oEu6QuBRY"
      }
    },
    {
      "cell_type": "code",
      "source": [
        "def variancia(x, amostral = False):\n",
        "    x_barra = media(x)\n",
        "\n",
        "    S = 0.\n",
        "    for x_i in x:\n",
        "        S += (x_i - x_barra) * (x_i - x_barra)\n",
        "\n",
        "    if amostral:\n",
        "        return S / (len(x) - 1)\n",
        "    else:\n",
        "        return S / len(x)\n",
        "\n",
        "def desvio_padrao(x, amostral = False):\n",
        "    return math.sqrt(variancia(x, amostral = amostral))\n",
        "\n",
        "def correlacao(x, y):\n",
        "    sx = desvio_padrao(x)\n",
        "    sy = desvio_padrao(y)\n",
        "\n",
        "    if sx > 0 and sy > 0:\n",
        "        return covariancia(x, y) / (sx * sy)\n",
        "    else:\n",
        "        return 0\n",
        "\n",
        "x = list(range(10))\n",
        "y = list(range(10))[::-1]\n",
        "\n",
        "print(x)\n",
        "print(y)\n",
        "print(correlacao(x, y))"
      ],
      "metadata": {
        "id": "m2N8YqW6aJKM",
        "colab": {
          "base_uri": "https://localhost:8080/"
        },
        "outputId": "15b6382c-2a7f-4af7-e94c-6aedd3fbaf03"
      },
      "execution_count": null,
      "outputs": [
        {
          "output_type": "stream",
          "name": "stdout",
          "text": [
            "[0, 1, 2, 3, 4, 5, 6, 7, 8, 9]\n",
            "[9, 8, 7, 6, 5, 4, 3, 2, 1, 0]\n",
            "-1.0\n"
          ]
        }
      ]
    },
    {
      "cell_type": "code",
      "source": [
        "print(stats.correlation(x, y))"
      ],
      "metadata": {
        "id": "d02dBZg2t5l-",
        "colab": {
          "base_uri": "https://localhost:8080/"
        },
        "outputId": "4a707c4c-c015-485b-d9d6-cecb9a325023"
      },
      "execution_count": null,
      "outputs": [
        {
          "output_type": "stream",
          "name": "stdout",
          "text": [
            "-1.0\n"
          ]
        }
      ]
    },
    {
      "cell_type": "code",
      "source": [
        "# M = [x, y]\n",
        "M = np.array([x, y])\n",
        "print(M)\n",
        "\n",
        "print(np.corrcoef(M))\n",
        "print(np.corrcoef(M)[0, 1])"
      ],
      "metadata": {
        "id": "VDNUhMLCuDpI",
        "colab": {
          "base_uri": "https://localhost:8080/"
        },
        "outputId": "aafd637a-0245-4fb1-ffc6-db86626d73f6"
      },
      "execution_count": null,
      "outputs": [
        {
          "output_type": "stream",
          "name": "stdout",
          "text": [
            "[[0 1 2 3 4 5 6 7 8 9]\n",
            " [9 8 7 6 5 4 3 2 1 0]]\n",
            "[[ 1. -1.]\n",
            " [-1.  1.]]\n",
            "-0.9999999999999999\n"
          ]
        }
      ]
    },
    {
      "cell_type": "code",
      "source": [
        "import scipy\n",
        "\n",
        "print(scipy.stats.pearsonr(x, y).correlation)"
      ],
      "metadata": {
        "colab": {
          "base_uri": "https://localhost:8080/"
        },
        "id": "HgBhqKlahOnm",
        "outputId": "4eab4d59-4415-4186-e302-5d327b669696"
      },
      "execution_count": null,
      "outputs": [
        {
          "output_type": "stream",
          "name": "stdout",
          "text": [
            "-0.9999999999999997\n"
          ]
        }
      ]
    }
  ]
}