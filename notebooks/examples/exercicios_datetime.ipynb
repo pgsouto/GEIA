{
 "cells": [
  {
   "cell_type": "markdown",
   "metadata": {},
   "source": [
    "# Exercícios com Datas em Python\n",
    "## Manipulação básica com `datetime`"
   ]
  },
  {
   "cell_type": "markdown",
   "metadata": {},
   "source": [
    "### Exercício 1: Data Atual\n",
    "Complete o código abaixo para imprimir a data atual no formato `DD/MM/AAAA`."
   ]
  },
  {
   "cell_type": "code",
   "execution_count": 2,
   "metadata": {},
   "outputs": [
    {
     "name": "stdout",
     "output_type": "stream",
     "text": [
      "14/05/2025\n"
     ]
    }
   ],
   "source": [
    "from datetime import date\n",
    "\n",
    "# Seu código aqui\n",
    "hoje = date.today()\n",
    "print(hoje.strftime('%d/%m/%Y'))"
   ]
  },
  {
   "cell_type": "markdown",
   "metadata": {},
   "source": [
    "### Exercício 2: Conversão de String para Data\n",
    "Converta a string `\"15/03/2023\"` para um objeto `datetime` e imprima apenas o ano."
   ]
  },
  {
   "cell_type": "code",
   "execution_count": 3,
   "metadata": {},
   "outputs": [
    {
     "name": "stdout",
     "output_type": "stream",
     "text": [
      "2023\n"
     ]
    }
   ],
   "source": [
    "from datetime import datetime\n",
    "\n",
    "data_str = \"15/03/2023\"\n",
    "# Seu código aqui\n",
    "data_obj = datetime.strptime(data_str, '%d/%m/%Y')\n",
    "print(data_obj.year)"
   ]
  },
  {
   "cell_type": "markdown",
   "metadata": {},
   "source": [
    "### Exercício 3: Diferença entre Datas\n",
    "Calcule quantos dias faltam para o Natal (25/12/2024) a partir de hoje."
   ]
  },
  {
   "cell_type": "code",
   "execution_count": 4,
   "metadata": {},
   "outputs": [
    {
     "name": "stdout",
     "output_type": "stream",
     "text": [
      "Faltam -140 dias para o Natal!\n"
     ]
    }
   ],
   "source": [
    "from datetime import date\n",
    "\n",
    "natal = date(2024, 12, 25)\n",
    "# Seu código aqui\n",
    "diferenca = natal - date.today()\n",
    "print(f\"Faltam {diferenca.days} dias para o Natal!\")"
   ]
  },
  {
   "cell_type": "markdown",
   "metadata": {},
   "source": [
    "### Exercício 4: Formatação Personalizada\n",
    "Converta a data `datetime(2023, 5, 10)` para o formato `\"10 de Maio de 2023\"`."
   ]
  },
  {
   "cell_type": "code",
   "execution_count": 5,
   "metadata": {},
   "outputs": [
    {
     "name": "stdout",
     "output_type": "stream",
     "text": [
      "10 de May de 2023\n"
     ]
    }
   ],
   "source": [
    "from datetime import datetime\n",
    "\n",
    "data = datetime(2023, 5, 10)\n",
    "# Seu código aqui\n",
    "print(data.strftime('%d de %B de %Y'))"
   ]
  },
  {
   "cell_type": "markdown",
   "metadata": {},
   "source": [
    "### Exercício 5: Lista de Datas\n",
    "Complete a função abaixo para gerar uma lista de datas entre `data_inicial` e `data_final`."
   ]
  },
  {
   "cell_type": "code",
   "execution_count": 6,
   "metadata": {},
   "outputs": [
    {
     "name": "stdout",
     "output_type": "stream",
     "text": [
      "[datetime.datetime(2023, 1, 1, 0, 0), datetime.datetime(2023, 1, 2, 0, 0), datetime.datetime(2023, 1, 3, 0, 0), datetime.datetime(2023, 1, 4, 0, 0), datetime.datetime(2023, 1, 5, 0, 0)]\n"
     ]
    }
   ],
   "source": [
    "from datetime import datetime, timedelta\n",
    "\n",
    "def lista_de_datas(data_inicial, data_final):\n",
    "    n = (data_final - data_inicial).days + 1\n",
    "    datas = []\n",
    "    for i in range(n):\n",
    "        datas.append(data_inicial + timedelta(days=i))\n",
    "    return datas\n",
    "\n",
    "# Teste\n",
    "inicio = datetime(2023, 1, 1)\n",
    "fim = datetime(2023, 1, 5)\n",
    "print(lista_de_datas(inicio, fim))"
   ]
  }
 ],
 "metadata": {
  "kernelspec": {
   "display_name": "base",
   "language": "python",
   "name": "python3"
  },
  "language_info": {
   "codemirror_mode": {
    "name": "ipython",
    "version": 3
   },
   "file_extension": ".py",
   "mimetype": "text/x-python",
   "name": "python",
   "nbconvert_exporter": "python",
   "pygments_lexer": "ipython3",
   "version": "3.12.7"
  }
 },
 "nbformat": 4,
 "nbformat_minor": 4
}
