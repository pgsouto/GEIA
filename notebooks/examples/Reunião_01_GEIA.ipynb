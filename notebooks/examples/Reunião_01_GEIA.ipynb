{
  "cells": [
    {
      "cell_type": "markdown",
      "metadata": {
        "id": "ZHVwK3pa8RZa"
      },
      "source": [
        "# X500 - Introdução à Ciência de Dados\n",
        "\n",
        "Prof. Erneson Alves de Oliveira<br>\n",
        "Programa de Pós-Graduação em Informática Aplicada<br>\n",
        "Universidade de Fortaleza"
      ]
    },
    {
      "cell_type": "markdown",
      "metadata": {
        "id": "Bb2rE8iYfqIL"
      },
      "source": [
        "# 2 Introdução ao Pandas\n",
        "\n",
        "![picture](https://drive.google.com/thumbnail?id=1UzNXA9dEa9ynMRWH5PqgUUAk-dWSKkWN&sz=w600)\n",
        "\n",
        "https://pandas.pydata.org"
      ]
    },
    {
      "cell_type": "markdown",
      "metadata": {
        "id": "6XDnrxkrgI4g"
      },
      "source": [
        "## 2.1 O que é Pandas?\n",
        "\n",
        "Pandas é um módulo para manipulação de tabelas (planilhas).\n",
        "\n",
        "![picture](https://drive.google.com/thumbnail?id=1EqkkwMguFttpovsYVstiQKsxgmPz34Kb&sz=w400)"
      ]
    },
    {
      "cell_type": "markdown",
      "metadata": {
        "id": "Kz6_jV7RgJAY"
      },
      "source": [
        "## 2.2 Séries\n",
        "\n",
        "![picture](https://drive.google.com/thumbnail?id=1FmeCWF76KsBFbTM9CJQ5k1efxyD6m0Gn&sz=w300)"
      ]
    },
    {
      "cell_type": "code",
      "execution_count": 3,
      "metadata": {
        "colab": {
          "base_uri": "https://localhost:8080/"
        },
        "id": "6TsPUs_v2znQ",
        "outputId": "f64a69de-69e6-4064-ee89-8ea256847f42"
      },
      "outputs": [
        {
          "name": "stdout",
          "output_type": "stream",
          "text": [
            "0    3\n",
            "1    2\n",
            "2    0\n",
            "3    1\n",
            "Name: apples, dtype: int64\n",
            "<class 'pandas.core.series.Series'>\n",
            "['T', '_AXIS_LEN', '_AXIS_ORDERS', '_AXIS_TO_AXIS_NUMBER', '_HANDLED_TYPES', '__abs__', '__add__', '__and__', '__annotations__', '__array__', '__array_priority__', '__array_ufunc__', '__bool__', '__class__', '__column_consortium_standard__', '__contains__', '__copy__', '__deepcopy__', '__delattr__', '__delitem__', '__dict__', '__dir__', '__divmod__', '__doc__', '__eq__', '__finalize__', '__float__', '__floordiv__', '__format__', '__ge__', '__getattr__', '__getattribute__', '__getitem__', '__getstate__', '__gt__', '__hash__', '__iadd__', '__iand__', '__ifloordiv__', '__imod__', '__imul__', '__init__', '__init_subclass__', '__int__', '__invert__', '__ior__', '__ipow__', '__isub__', '__iter__', '__itruediv__', '__ixor__', '__le__', '__len__', '__lt__', '__matmul__', '__mod__', '__module__', '__mul__', '__ne__', '__neg__', '__new__', '__nonzero__', '__or__', '__pandas_priority__', '__pos__', '__pow__', '__radd__', '__rand__', '__rdivmod__', '__reduce__', '__reduce_ex__', '__repr__', '__rfloordiv__', '__rmatmul__', '__rmod__', '__rmul__', '__ror__', '__round__', '__rpow__', '__rsub__', '__rtruediv__', '__rxor__', '__setattr__', '__setitem__', '__setstate__', '__sizeof__', '__str__', '__sub__', '__subclasshook__', '__truediv__', '__weakref__', '__xor__', '_accessors', '_accum_func', '_agg_examples_doc', '_agg_see_also_doc', '_align_for_op', '_align_frame', '_align_series', '_append', '_arith_method', '_as_manager', '_attrs', '_binop', '_can_hold_na', '_check_inplace_and_allows_duplicate_labels', '_check_is_chained_assignment_possible', '_check_label_or_level_ambiguity', '_check_setitem_copy', '_clear_item_cache', '_clip_with_one_bound', '_clip_with_scalar', '_cmp_method', '_consolidate', '_consolidate_inplace', '_construct_axes_dict', '_construct_result', '_constructor', '_constructor_expanddim', '_constructor_expanddim_from_mgr', '_constructor_from_mgr', '_data', '_deprecate_downcast', '_dir_additions', '_dir_deletions', '_drop_axis', '_drop_labels_or_levels', '_duplicated', '_find_valid_index', '_flags', '_flex_method', '_from_mgr', '_get_axis', '_get_axis_name', '_get_axis_number', '_get_axis_resolvers', '_get_block_manager_axis', '_get_bool_data', '_get_cacher', '_get_cleaned_column_resolvers', '_get_index_resolvers', '_get_label_or_level_values', '_get_numeric_data', '_get_rows_with_mask', '_get_value', '_get_values_tuple', '_get_with', '_getitem_slice', '_gotitem', '_hidden_attrs', '_indexed_same', '_info_axis', '_info_axis_name', '_info_axis_number', '_init_dict', '_init_mgr', '_inplace_method', '_internal_names', '_internal_names_set', '_is_cached', '_is_copy', '_is_label_or_level_reference', '_is_label_reference', '_is_level_reference', '_is_mixed_type', '_is_view', '_is_view_after_cow_rules', '_item_cache', '_ixs', '_logical_func', '_logical_method', '_map_values', '_maybe_update_cacher', '_memory_usage', '_metadata', '_mgr', '_min_count_stat_function', '_name', '_needs_reindex_multi', '_pad_or_backfill', '_protect_consolidate', '_reduce', '_references', '_reindex_axes', '_reindex_indexer', '_reindex_multi', '_reindex_with_indexers', '_rename', '_replace_single', '_repr_data_resource_', '_repr_latex_', '_reset_cache', '_reset_cacher', '_set_as_cached', '_set_axis', '_set_axis_name', '_set_axis_nocheck', '_set_is_copy', '_set_labels', '_set_name', '_set_value', '_set_values', '_set_with', '_set_with_engine', '_shift_with_freq', '_slice', '_stat_function', '_stat_function_ddof', '_take_with_is_copy', '_to_latex_via_styler', '_typ', '_update_inplace', '_validate_dtype', '_values', '_where', 'abs', 'add', 'add_prefix', 'add_suffix', 'agg', 'aggregate', 'align', 'all', 'any', 'apply', 'argmax', 'argmin', 'argsort', 'array', 'asfreq', 'asof', 'astype', 'at', 'at_time', 'attrs', 'autocorr', 'axes', 'backfill', 'between', 'between_time', 'bfill', 'bool', 'case_when', 'clip', 'combine', 'combine_first', 'compare', 'convert_dtypes', 'copy', 'corr', 'count', 'cov', 'cummax', 'cummin', 'cumprod', 'cumsum', 'describe', 'diff', 'div', 'divide', 'divmod', 'dot', 'drop', 'drop_duplicates', 'droplevel', 'dropna', 'dtype', 'dtypes', 'duplicated', 'empty', 'eq', 'equals', 'ewm', 'expanding', 'explode', 'factorize', 'ffill', 'fillna', 'filter', 'first', 'first_valid_index', 'flags', 'floordiv', 'ge', 'get', 'groupby', 'gt', 'hasnans', 'head', 'hist', 'iat', 'idxmax', 'idxmin', 'iloc', 'index', 'infer_objects', 'info', 'interpolate', 'is_monotonic_decreasing', 'is_monotonic_increasing', 'is_unique', 'isin', 'isna', 'isnull', 'item', 'items', 'keys', 'kurt', 'kurtosis', 'last', 'last_valid_index', 'le', 'list', 'loc', 'lt', 'map', 'mask', 'max', 'mean', 'median', 'memory_usage', 'min', 'mod', 'mode', 'mul', 'multiply', 'name', 'nbytes', 'ndim', 'ne', 'nlargest', 'notna', 'notnull', 'nsmallest', 'nunique', 'pad', 'pct_change', 'pipe', 'plot', 'pop', 'pow', 'prod', 'product', 'quantile', 'radd', 'rank', 'ravel', 'rdiv', 'rdivmod', 'reindex', 'reindex_like', 'rename', 'rename_axis', 'reorder_levels', 'repeat', 'replace', 'resample', 'reset_index', 'rfloordiv', 'rmod', 'rmul', 'rolling', 'round', 'rpow', 'rsub', 'rtruediv', 'sample', 'searchsorted', 'sem', 'set_axis', 'set_flags', 'shape', 'shift', 'size', 'skew', 'sort_index', 'sort_values', 'squeeze', 'std', 'struct', 'sub', 'subtract', 'sum', 'swapaxes', 'swaplevel', 'tail', 'take', 'to_clipboard', 'to_csv', 'to_dict', 'to_excel', 'to_frame', 'to_hdf', 'to_json', 'to_latex', 'to_list', 'to_markdown', 'to_numpy', 'to_period', 'to_pickle', 'to_sql', 'to_string', 'to_timestamp', 'to_xarray', 'transform', 'transpose', 'truediv', 'truncate', 'tz_convert', 'tz_localize', 'unique', 'unstack', 'update', 'value_counts', 'values', 'var', 'view', 'where', 'xs']\n"
          ]
        }
      ],
      "source": [
        "import pandas as pd\n",
        "import numpy as np\n",
        "\n",
        "apples = [3, 2, 0, 1]\n",
        "\n",
        "s = pd.Series(apples,\n",
        "              name = 'apples',\n",
        "              dtype = np.int64)\n",
        "\n",
        "print(s)\n",
        "print(type(s))\n",
        "print(dir(s))"
      ]
    },
    {
      "cell_type": "code",
      "execution_count": 7,
      "metadata": {
        "colab": {
          "base_uri": "https://localhost:8080/"
        },
        "id": "8XQYIAmT3ATe",
        "outputId": "f5d7ea44-ad76-4f85-9206-0f8f471693c2"
      },
      "outputs": [
        {
          "name": "stdout",
          "output_type": "stream",
          "text": [
            "0    3\n",
            "1    2\n",
            "Name: apples, dtype: int64\n",
            "2    0\n",
            "3    1\n",
            "Name: apples, dtype: int64\n"
          ]
        }
      ],
      "source": [
        "print(s.head(2))\n",
        "print(s.tail(2))"
      ]
    },
    {
      "cell_type": "code",
      "execution_count": null,
      "metadata": {
        "colab": {
          "base_uri": "https://localhost:8080/"
        },
        "id": "zUVSNtBqfkSJ",
        "outputId": "30d9236c-b8ea-4772-a836-add7e3ef7317"
      },
      "outputs": [
        {
          "name": "stdout",
          "output_type": "stream",
          "text": [
            "1\n",
            "(4,)\n"
          ]
        }
      ],
      "source": [
        "print(s.ndim)\n",
        "print(s.shape)"
      ]
    },
    {
      "cell_type": "code",
      "execution_count": 8,
      "metadata": {
        "colab": {
          "base_uri": "https://localhost:8080/"
        },
        "id": "QjpDI9wX29k_",
        "outputId": "d9fd986e-5707-47e3-a171-358ec0072f69"
      },
      "outputs": [
        {
          "name": "stdout",
          "output_type": "stream",
          "text": [
            "1.5\n",
            "3\n",
            "0\n",
            "3\n"
          ]
        }
      ],
      "source": [
        "print(s.mean())\n",
        "print(s.max())\n",
        "print(s.min())\n",
        "print(s[0])"
      ]
    },
    {
      "cell_type": "markdown",
      "metadata": {
        "id": "3rVI9yVmghG-"
      },
      "source": [
        "## 2.3 DataFrames (Planilhas)\n",
        "\n",
        "![picture](https://drive.google.com/thumbnail?id=17blGuGZf1lLKyV3ZYEU9SR95jhd4rCqI&sz=w800)"
      ]
    },
    {
      "cell_type": "code",
      "execution_count": null,
      "metadata": {
        "colab": {
          "base_uri": "https://localhost:8080/"
        },
        "id": "F9vypTrAgxYL",
        "outputId": "f2f3715c-68da-4a2d-afec-25a1a0a7661f"
      },
      "outputs": [
        {
          "name": "stdout",
          "output_type": "stream",
          "text": [
            "   apples  oranges\n",
            "0       3        0\n",
            "1       2        3\n",
            "2       0        7\n",
            "3       1        2\n",
            "<class 'pandas.core.frame.DataFrame'>\n"
          ]
        }
      ],
      "source": [
        "d = {'apples': [3, 2, 0, 1],\n",
        "     'oranges': [0, 3, 7, 2]}\n",
        "\n",
        "df = pd.DataFrame(d)\n",
        "\n",
        "print(df)\n",
        "print(type(df))\n",
        "# print(dir(df))"
      ]
    },
    {
      "cell_type": "code",
      "execution_count": 16,
      "metadata": {
        "colab": {
          "base_uri": "https://localhost:8080/"
        },
        "id": "syMxocfm3GzP",
        "outputId": "e129fbc7-1bec-405c-b4ab-b438d7dae7b0"
      },
      "outputs": [
        {
          "name": "stdout",
          "output_type": "stream",
          "text": [
            "2\n",
            "(4, 2)\n",
            "apples     1.5\n",
            "oranges    3.0\n",
            "dtype: float64\n"
          ]
        }
      ],
      "source": [
        "print(df.ndim)\n",
        "print(df.shape)\n",
        "print(df.mean())"
      ]
    },
    {
      "cell_type": "code",
      "execution_count": 20,
      "metadata": {
        "colab": {
          "base_uri": "https://localhost:8080/"
        },
        "id": "Dg_IerNu3J3M",
        "outputId": "99a962bf-c7ec-4150-f95c-b4da3db6d87f"
      },
      "outputs": [
        {
          "name": "stdout",
          "output_type": "stream",
          "text": [
            "1.5\n",
            "apples     3\n",
            "oranges    7\n",
            "dtype: int64\n",
            "apples     0\n",
            "oranges    0\n",
            "dtype: int64\n",
            "         0  1  2  3\n",
            "apples   3  2  0  1\n",
            "oranges  0  3  7  2\n",
            "(2, 4)\n"
          ]
        }
      ],
      "source": [
        "print(df.mean()['apples'])\n",
        "print(df.max())\n",
        "print(df.min())\n",
        "print(df.T)\n",
        "transpose = df.T\n",
        "print(transpose.shape)"
      ]
    },
    {
      "cell_type": "code",
      "execution_count": null,
      "metadata": {
        "colab": {
          "base_uri": "https://localhost:8080/"
        },
        "id": "-tlLZ7krgVGg",
        "outputId": "b5353a7c-6a71-451f-ff70-c7db7c453747"
      },
      "outputs": [
        {
          "name": "stdout",
          "output_type": "stream",
          "text": [
            "   apples  oranges\n",
            "0       3        0\n",
            "1       2        3\n",
            "2       0        7\n",
            "3       1        2\n",
            "[0, 1, 2, 3]\n",
            "['apples', 'oranges']\n"
          ]
        }
      ],
      "source": [
        "d = {'apples': [3, 2, 0, 1],\n",
        "     'oranges': [0, 3, 7, 2]}\n",
        "\n",
        "df = pd.DataFrame(d)\n",
        "print(df)\n",
        "\n",
        "print(list(df.index))\n",
        "print(list(df.columns))"
      ]
    },
    {
      "cell_type": "code",
      "execution_count": 22,
      "metadata": {
        "colab": {
          "base_uri": "https://localhost:8080/"
        },
        "id": "KZ_Pj4pug0RB",
        "outputId": "0b32692b-51be-425d-e032-765334c4223b"
      },
      "outputs": [
        {
          "name": "stdout",
          "output_type": "stream",
          "text": [
            "[0, 1, 2, 3]\n"
          ]
        }
      ],
      "source": [
        "# minha_lista = []\n",
        "# for x in df.index:\n",
        "#     minha_lista.append(x)\n",
        "# print(minha_lista)\n",
        "\n",
        "minha_lista = [x for x in df.index]\n",
        "print(minha_lista)"
      ]
    },
    {
      "cell_type": "code",
      "execution_count": 25,
      "metadata": {
        "colab": {
          "base_uri": "https://localhost:8080/"
        },
        "id": "mAciLUVh3bYc",
        "outputId": "4c320d83-1492-4f7a-9e82-5a5bf006cc88"
      },
      "outputs": [
        {
          "name": "stdout",
          "output_type": "stream",
          "text": [
            "   apples  oranges\n",
            "A       3        0\n",
            "B       2        3\n",
            "C       0        7\n",
            "D       1        2\n",
            "['A', 'B', 'C', 'D']\n",
            "['apples', 'oranges']\n"
          ]
        }
      ],
      "source": [
        "d = {'apples': {'A': 3,\n",
        "                'B': 2,\n",
        "                'C': 0,\n",
        "                'D': 1},\n",
        "     'oranges': {'A': 0,\n",
        "                 'B': 3,\n",
        "                 'C': 7,\n",
        "                 'D': 2}}\n",
        "\n",
        "df = pd.DataFrame(d)\n",
        "print(df)\n",
        "\n",
        "print(list(df.index))\n",
        "print(list(df.columns))"
      ]
    },
    {
      "cell_type": "markdown",
      "metadata": {
        "id": "oXQ-KyzCg3UB"
      },
      "source": [
        "## 2.4 Escrevendo e lendo (.csv e .xlsx)"
      ]
    },
    {
      "cell_type": "code",
      "execution_count": 28,
      "metadata": {
        "colab": {
          "base_uri": "https://localhost:8080/"
        },
        "id": "xN0gcl9m4ezX",
        "outputId": "c288c5f5-49ad-41f6-f214-c0d24ef87dcd"
      },
      "outputs": [
        {
          "name": "stdout",
          "output_type": "stream",
          "text": [
            "   apples  oranges  bananas  avocados\n",
            "0       3        0        1         9\n",
            "1       2        3        3         0\n",
            "2       0        7        5         0\n",
            "3       1        2        4         1\n"
          ]
        }
      ],
      "source": [
        "d = {'apples': [3, 2, 0, 1],\n",
        "     'oranges': [0, 3, 7, 2],\n",
        "     'bananas': [1, 3, 5, 4],\n",
        "     'avocados': [9, 0, 0, 1]}\n",
        "\n",
        "df0 = pd.DataFrame(d)\n",
        "print(df0)"
      ]
    },
    {
      "cell_type": "markdown",
      "metadata": {
        "id": "6a36SzB44vuz"
      },
      "source": [
        "### 2.4.1 Valores separados por vírgula (.csv)"
      ]
    },
    {
      "cell_type": "code",
      "execution_count": 29,
      "metadata": {
        "id": "_FL6BCZh4htR"
      },
      "outputs": [],
      "source": [
        "df0.to_csv('arquivo_de_saida.csv',\n",
        "           sep = ';',\n",
        "           encoding = 'utf-8',\n",
        "           header = True,\n",
        "           index = False) # Escrevendo um CSV"
      ]
    },
    {
      "cell_type": "code",
      "execution_count": 30,
      "metadata": {
        "colab": {
          "base_uri": "https://localhost:8080/",
          "height": 175
        },
        "id": "ifn60J57g_F9",
        "outputId": "da99c902-02a8-4d37-abd8-de630e273dec"
      },
      "outputs": [
        {
          "data": {
            "text/html": [
              "<div>\n",
              "<style scoped>\n",
              "    .dataframe tbody tr th:only-of-type {\n",
              "        vertical-align: middle;\n",
              "    }\n",
              "\n",
              "    .dataframe tbody tr th {\n",
              "        vertical-align: top;\n",
              "    }\n",
              "\n",
              "    .dataframe thead th {\n",
              "        text-align: right;\n",
              "    }\n",
              "</style>\n",
              "<table border=\"1\" class=\"dataframe\">\n",
              "  <thead>\n",
              "    <tr style=\"text-align: right;\">\n",
              "      <th></th>\n",
              "      <th>apples</th>\n",
              "      <th>oranges</th>\n",
              "      <th>bananas</th>\n",
              "    </tr>\n",
              "  </thead>\n",
              "  <tbody>\n",
              "    <tr>\n",
              "      <th>0</th>\n",
              "      <td>3</td>\n",
              "      <td>0</td>\n",
              "      <td>1</td>\n",
              "    </tr>\n",
              "    <tr>\n",
              "      <th>1</th>\n",
              "      <td>2</td>\n",
              "      <td>3</td>\n",
              "      <td>3</td>\n",
              "    </tr>\n",
              "    <tr>\n",
              "      <th>2</th>\n",
              "      <td>0</td>\n",
              "      <td>7</td>\n",
              "      <td>5</td>\n",
              "    </tr>\n",
              "    <tr>\n",
              "      <th>3</th>\n",
              "      <td>1</td>\n",
              "      <td>2</td>\n",
              "      <td>4</td>\n",
              "    </tr>\n",
              "  </tbody>\n",
              "</table>\n",
              "</div>"
            ],
            "text/plain": [
              "   apples  oranges  bananas\n",
              "0       3        0        1\n",
              "1       2        3        3\n",
              "2       0        7        5\n",
              "3       1        2        4"
            ]
          },
          "execution_count": 30,
          "metadata": {},
          "output_type": "execute_result"
        }
      ],
      "source": [
        "df1 = pd.read_csv('arquivo_de_saida.csv',\n",
        "                  sep = ';',\n",
        "                  usecols = ['apples', 'bananas','oranges'],\n",
        "                  encoding = 'utf-8',\n",
        "                  nrows = 5) # Lendo um CSV\n",
        "df1"
      ]
    },
    {
      "cell_type": "markdown",
      "metadata": {
        "id": "2KmmAaf95WHS"
      },
      "source": [
        "### 2.4.2 Planilhas do Excel (.xlsx)"
      ]
    },
    {
      "cell_type": "code",
      "execution_count": 31,
      "metadata": {
        "id": "BQ1nWa0uhAjt"
      },
      "outputs": [],
      "source": [
        "df0.to_excel('output.xlsx', index = False)"
      ]
    },
    {
      "cell_type": "code",
      "execution_count": 32,
      "metadata": {
        "colab": {
          "base_uri": "https://localhost:8080/"
        },
        "id": "9BcnnDrE4nut",
        "outputId": "6903cd41-16c1-4627-ac34-3587725d4bc8"
      },
      "outputs": [
        {
          "name": "stdout",
          "output_type": "stream",
          "text": [
            "   apples  oranges  bananas  avocados\n",
            "0       3        0        1         9\n",
            "1       2        3        3         0\n",
            "2       0        7        5         0\n",
            "3       1        2        4         1\n"
          ]
        }
      ],
      "source": [
        "df2 = pd.read_excel('output.xlsx')\n",
        "print(df2)"
      ]
    },
    {
      "cell_type": "markdown",
      "metadata": {
        "id": "IZ3CwFk5KSN9"
      },
      "source": [
        "# Referências\n",
        "\n",
        "[1] <a> https://docs.python.org/pt-br/3/tutorial/</a>\n",
        "\n",
        "[2] <a> https://pandas.pydata.org/</a>\n",
        "\n",
        "[3] Joel Grus. Data science from scratch: first principles with python. O'Reilly Media, 2019."
      ]
    }
  ],
  "metadata": {
    "colab": {
      "provenance": []
    },
    "kernelspec": {
      "display_name": "base",
      "language": "python",
      "name": "python3"
    },
    "language_info": {
      "codemirror_mode": {
        "name": "ipython",
        "version": 3
      },
      "file_extension": ".py",
      "mimetype": "text/x-python",
      "name": "python",
      "nbconvert_exporter": "python",
      "pygments_lexer": "ipython3",
      "version": "3.12.7"
    }
  },
  "nbformat": 4,
  "nbformat_minor": 0
}
